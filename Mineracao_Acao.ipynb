{
 "cells": [
  {
   "cell_type": "markdown",
   "metadata": {},
   "source": [
    "<h1>Mineração de Dados do Mercado de Ações</h1>\n"
   ]
  },
  {
   "cell_type": "markdown",
   "metadata": {},
   "source": [
    "<h2>Metodologia</h2>"
   ]
  },
  {
   "cell_type": "markdown",
   "metadata": {},
   "source": [
    "<img src=\"https://github.com/leonardosminfo/Stock/blob/master/daaminingfinal.png?raw=true\">"
   ]
  },
  {
   "cell_type": "markdown",
   "metadata": {},
   "source": [
    "<h2>Definições</h2>"
   ]
  },
  {
   "attachments": {},
   "cell_type": "markdown",
   "metadata": {},
   "source": [
    "<b> Ações </b> são títulos de renda variável que equivalem à menor unidade resultante da divisão do capital da empresa.\n",
    "\n",
    "<b>Análise técnica </b> é a avaliação comportamento dos preços dos ativos com a possibilidade de identificação de  pontos de compra e de venda.\n",
    "\n",
    "<b> Indicador </b> é a representação gráfica de uma fórmula matemática, utilizando como dados de entrada o preço , o volume , composição de indicadores, ou os três ao mesmo tempo.\n",
    "\n",
    "<b> Tendência </b> corresponde à direção e o sentido do movimento de altos e baixos que a ação percorre. Por exemplo, uma tendência de alta é uma série de altos e baixos cada vez mais altos, enquanto uma tendência de baixa é uma série de pontos altos e baixos cada vez mais baixos."
   ]
  },
  {
   "cell_type": "markdown",
   "metadata": {},
   "source": [
    "<h2> Objetivo </h2>\n",
    "Esta anotação tem a intenção de demonstrar e explicar o código e os métodos utilizados pesquisa realizada a respeito de mineração de tendências em ações."
   ]
  },
  {
   "cell_type": "markdown",
   "metadata": {},
   "source": [
    "<h2>Base de Dados</h2>\n",
    "\n",
    "A obtenção dos valores das ações por período utilizado nesta pesquisa foi obtido através do <i>Google Finances</i>. \n",
    "\n"
   ]
  },
  {
   "cell_type": "markdown",
   "metadata": {},
   "source": [
    "<h2>Função para o carregamento de bibliotecas</h2>"
   ]
  },
  {
   "cell_type": "code",
   "execution_count": 9,
   "metadata": {
    "collapsed": true
   },
   "outputs": [],
   "source": [
    "loadlibrary <- function(x)\n",
    "{\n",
    "  if (!require(x,character.only = TRUE))\n",
    "  {\n",
    "    install.packages(x, repos='http://cran.us.r-project.org', dep=TRUE)\n",
    "    if(!require(x,character.only = TRUE)) stop(\"Package not found\")\n",
    "  }\n",
    "}"
   ]
  },
  {
   "cell_type": "markdown",
   "metadata": {},
   "source": [
    "Serão utilizadas as seguintes biblotecas:\n",
    "<ul>\n",
    "        <li><b>ggplot</b>:criação de gráficos estatísticos</li>\n",
    "    <li><b>quantmod</b>: pacote projetado para ajudar na análise quantitativa, desenvolvimento de testes e implantação de modelos de negócios com base estatística</li>\n",
    "    <li><b>corrplot</b>:  representação gráfica da matriz de correlação e intervalo de confiança. labels, layout, etc</li>\n",
    "    <li><b>cubist</b>: modelo de regressão</li>\n",
    "    <li><b>caret</b>: conjunto de funções para criação e manipulação de modelos preditivos</li>\n",
    "        </ul>\n"
   ]
  },
  {
   "cell_type": "code",
   "execution_count": 57,
   "metadata": {},
   "outputs": [
    {
     "name": "stderr",
     "output_type": "stream",
     "text": [
      "Loading required package: caret\n"
     ]
    }
   ],
   "source": [
    "loadlibrary(\"ggplot2\")\n",
    "loadlibrary(\"quantmod\")\n",
    "loadlibrary(\"corrplot\")\n",
    "loadlibrary(\"Cubist\")\n",
    "loadlibrary(\"caret\")"
   ]
  },
  {
   "cell_type": "markdown",
   "metadata": {},
   "source": [
    "<h2>Aquisição dos valores da variável temporal da ação</h2>\n",
    "\n",
    "Exemplo - Ação da Apple"
   ]
  },
  {
   "cell_type": "code",
   "execution_count": 43,
   "metadata": {},
   "outputs": [
    {
     "data": {
      "text/html": [
       "'AAPL'"
      ],
      "text/latex": [
       "'AAPL'"
      ],
      "text/markdown": [
       "'AAPL'"
      ],
      "text/plain": [
       "[1] \"AAPL\""
      ]
     },
     "metadata": {},
     "output_type": "display_data"
    },
    {
     "data": {
      "text/plain": [
       "           AAPL.Open AAPL.High AAPL.Low AAPL.Close AAPL.Volume\n",
       "2007-01-03     12.33     12.37    11.70      11.97   311433248\n",
       "2007-01-04     12.01     12.28    11.97      12.24   214031636\n",
       "2007-01-05     12.25     12.31    12.06      12.15   208817119\n",
       "2007-01-08     12.28     12.36    12.18      12.21   199431337\n",
       "2007-01-09     12.35     13.28    12.16      13.22   838036682\n",
       "2007-01-10     13.54     13.97    13.35      13.86   739605951"
      ]
     },
     "metadata": {},
     "output_type": "display_data"
    }
   ],
   "source": [
    "getSymbols(\"AAPL\",src=\"google\")\n",
    "head(AAPL)"
   ]
  },
  {
   "attachments": {},
   "cell_type": "markdown",
   "metadata": {
    "collapsed": true
   },
   "source": [
    "<h2>Pré- Processamento</h2>\n",
    "\n",
    "Inicialmente foi utilizada a Composição de Atributos, adicionar os índices ATR,ADX,Aroon,SMI,Bollinger,SAR,ROC,RSI, OBV e EMA à  base de dados, levando em consideração vinte períodos de aquisição. Logo após foi realizada a limpeza dos dados, com a retirada dos itens com algum atributo nulo. Em seguida ocorreu a redução da dimensionalidade, levando em consideração a correlação das colunas.\n",
    "\n",
    "Técnicas :\n",
    "<ul>\n",
    "<li>Composição de Atributos – Adição de novos atributos inferidos a partir de atributos existentes (Indicadores Técnicos)</li>\n",
    "<li>Limpeza de Dados – Dados Incompletos (NA)</li>\n",
    "<li>Redução da Dimensionalidade – Seleção de Atributos</li>\n",
    "</ul>"
   ]
  },
  {
   "cell_type": "markdown",
   "metadata": {},
   "source": [
    "<h3>Composição de Atributos</h3>"
   ]
  },
  {
   "cell_type": "code",
   "execution_count": 44,
   "metadata": {
    "collapsed": true
   },
   "outputs": [],
   "source": [
    "\n",
    "## Average True Range Indicator\n",
    "ATRindicador <- ATR(AAPL, n = 20)\n",
    "\n",
    "## Weilders Directional Index\n",
    "\n",
    "ADXIndicador <- ADX(AAPL, n = 20)\n",
    "\n",
    "## Aroon Indicador\n",
    "AroonIndicador <- aroon(AAPL[, 2:3], n = 20)\n",
    "\n",
    "## Stochastic Momentum Indicador\n",
    "SMIindicador <- SMI(AAPL[, 2:4], n = 20, nFast = 20, nSlow = 11,\n",
    "                    nSig = 6, maType = SMA,\n",
    "                    bounded = TRUE)\n",
    "\n",
    "## Bollinger Bands Indicador\n",
    "BBandIndicador <- BBands(AAPL[, 2:4],n=20)\n",
    "# SMA\n",
    "SMAIndicador <- SMA(AAPL[,4], n = 20)\n",
    "\n",
    "## MACD\n",
    "MACDindicador <- MACD(AAPL[,4],nFast = 20, nSlow =11 , nSig = 6)\n",
    "\n",
    "## SAR\n",
    "sarindicador <- SAR(AAPL[,2:3], accel = c(0.02, 0.2))\n",
    "\n",
    "## Rate of change\n",
    "roc <- ROC(AAPL[,5], n = 20, type = c(\"continuous\", \"discrete\"),\n",
    "           na.pad = TRUE)\n",
    "\n",
    "## Relative strenght index\n",
    "rsi <- RSI(AAPL[,5], n = 20, maType = \"WMA\")\n",
    "\n",
    "\n",
    "##OBV On Balance Volume\n",
    "obv <- OBV(AAPL[,4],AAPL[,5])\n",
    "## EMA\n",
    "EMAIndicador <- EMA(AAPL[,4], n = 20)\n",
    "\n",
    "#Completando a composição, adicionando uma variável os valores\n",
    "\n",
    "cAAPL <- cbind(AAPL,ADXIndicador,BBandIndicador,EMAIndicador,MACDindicador,rsi,SMAIndicador,obv)"
   ]
  },
  {
   "cell_type": "markdown",
   "metadata": {},
   "source": [
    "<h3>Resultado da Composição dos atributos</h3>"
   ]
  },
  {
   "cell_type": "code",
   "execution_count": 45,
   "metadata": {},
   "outputs": [
    {
     "data": {
      "text/plain": [
       "           AAPL.Open AAPL.High AAPL.Low AAPL.Close AAPL.Volume      DIp\n",
       "2007-01-03     12.33     12.37    11.70      11.97   311433248       NA\n",
       "2007-01-04     12.01     12.28    11.97      12.24   214031636       NA\n",
       "2007-01-05     12.25     12.31    12.06      12.15   208817119       NA\n",
       "2007-01-08     12.28     12.36    12.18      12.21   199431337       NA\n",
       "2007-01-09     12.35     13.28    12.16      13.22   838036682       NA\n",
       "2007-01-10     13.54     13.97    13.35      13.86   739605951       NA\n",
       "2007-01-11     13.71     13.83    13.59      13.69   360565688       NA\n",
       "2007-01-12     13.51     13.58    13.32      13.52   328246485       NA\n",
       "2007-01-16     13.67     13.89    13.64      13.87   311365418       NA\n",
       "2007-01-17     13.94     13.94    13.55      13.56   420187362       NA\n",
       "2007-01-18     13.16     13.16    12.72      12.72   591823435       NA\n",
       "2007-01-19     12.66     12.81    12.59      12.64   341178439       NA\n",
       "2007-01-22     12.73     12.74    12.24      12.40   363643399       NA\n",
       "2007-01-23     12.25     12.50    12.22      12.24   302148959       NA\n",
       "2007-01-24     12.38     12.45    12.30      12.39   232175503       NA\n",
       "2007-01-25     12.44     12.64    12.29      12.32   226758903       NA\n",
       "2007-01-26     12.44     12.48    12.14      12.20   246756566       NA\n",
       "2007-01-29     12.33     12.38    12.22      12.28   225616314       NA\n",
       "2007-01-30     12.35     12.36    12.18      12.22   144691316       NA\n",
       "2007-01-31     12.12     12.29    12.05      12.25   214117890       NA\n",
       "2007-02-01     12.32     12.32    12.11      12.11   166231303 50.87292\n",
       "2007-02-02     12.02     12.18    11.96      12.11   155435735 50.87292\n",
       "2007-02-05     12.04     12.18    11.99      11.99   145164194 50.39653\n",
       "2007-02-06     12.06     12.07    11.84      12.02   216257825 49.55609\n",
       "2007-02-07     12.07     12.34    11.94      12.31   267266804 47.09076\n",
       "2007-02-08     12.20     12.36    12.20      12.31   169853250 47.26804\n",
       "2007-02-09     12.27     12.31    11.89      11.90   215234936 48.16322\n",
       "2007-02-12     12.06     12.17    11.95      12.13   181112792 46.15998\n",
       "2007-02-13     12.17     12.18    12.04      12.09   148753815 46.36589\n",
       "2007-02-14     12.09     12.23    12.08      12.19   127054753 45.77864\n",
       "                DIn        DX ADX       dn     mavg       up      pctB      EMA\n",
       "2007-01-03       NA        NA  NA       NA       NA       NA        NA       NA\n",
       "2007-01-04       NA        NA  NA       NA       NA       NA        NA       NA\n",
       "2007-01-05       NA        NA  NA       NA       NA       NA        NA       NA\n",
       "2007-01-08       NA        NA  NA       NA       NA       NA        NA       NA\n",
       "2007-01-09       NA        NA  NA       NA       NA       NA        NA       NA\n",
       "2007-01-10       NA        NA  NA       NA       NA       NA        NA       NA\n",
       "2007-01-11       NA        NA  NA       NA       NA       NA        NA       NA\n",
       "2007-01-12       NA        NA  NA       NA       NA       NA        NA       NA\n",
       "2007-01-16       NA        NA  NA       NA       NA       NA        NA       NA\n",
       "2007-01-17       NA        NA  NA       NA       NA       NA        NA       NA\n",
       "2007-01-18       NA        NA  NA       NA       NA       NA        NA       NA\n",
       "2007-01-19       NA        NA  NA       NA       NA       NA        NA       NA\n",
       "2007-01-22       NA        NA  NA       NA       NA       NA        NA       NA\n",
       "2007-01-23       NA        NA  NA       NA       NA       NA        NA       NA\n",
       "2007-01-24       NA        NA  NA       NA       NA       NA        NA       NA\n",
       "2007-01-25       NA        NA  NA       NA       NA       NA        NA       NA\n",
       "2007-01-26       NA        NA  NA       NA       NA       NA        NA       NA\n",
       "2007-01-29       NA        NA  NA       NA       NA       NA        NA       NA\n",
       "2007-01-30       NA        NA  NA       NA       NA       NA        NA       NA\n",
       "2007-01-31       NA        NA  NA 11.49045 12.70067 13.91088 0.2917722 12.69750\n",
       "2007-02-01 41.41361 10.249943  NA 11.51566 12.70900 13.90234 0.2783541 12.64155\n",
       "2007-02-02 44.53219  6.646120  NA 11.50386 12.70500 13.90614 0.2412191 12.59092\n",
       "2007-02-05 43.71222  7.102752  NA 11.48615 12.69900 13.91185 0.2338225 12.53369\n",
       "2007-02-06 45.60384  4.153269  NA 11.44667 12.68533 13.92400 0.2139393 12.48477\n",
       "2007-02-07 43.11694  4.405190  NA 11.39816 12.65083 13.90350 0.3187205 12.46813\n",
       "2007-02-08 40.48956  7.724089  NA 11.42008 12.57900 13.73792 0.3753151 12.45307\n",
       "2007-02-09 39.80220  9.504892  NA 11.43629 12.49550 13.55471 0.2818351 12.40039\n",
       "2007-02-12 41.57200  5.229542  NA 11.45370 12.42600 13.39830 0.3237847 12.37464\n",
       "2007-02-13 39.34288  8.194033  NA 11.59296 12.34117 13.08938 0.3410652 12.34753\n",
       "2007-02-14 38.84459  8.194033  NA 11.83799 12.26533 12.69268 0.3845586 12.33253\n",
       "               macd   signal      ..6     SMA        obv\n",
       "2007-01-03       NA       NA       NA      NA  311433248\n",
       "2007-01-04       NA       NA       NA      NA  525464884\n",
       "2007-01-05       NA       NA       NA      NA  316647765\n",
       "2007-01-08       NA       NA       NA      NA  516079102\n",
       "2007-01-09       NA       NA       NA      NA 1354115784\n",
       "2007-01-10       NA       NA       NA      NA 2093721735\n",
       "2007-01-11       NA       NA       NA      NA 1733156047\n",
       "2007-01-12       NA       NA       NA      NA 1404909562\n",
       "2007-01-16       NA       NA       NA      NA 1716274980\n",
       "2007-01-17       NA       NA       NA      NA 1296087618\n",
       "2007-01-18       NA       NA       NA      NA  704264183\n",
       "2007-01-19       NA       NA       NA      NA  363085744\n",
       "2007-01-22       NA       NA       NA      NA    -557655\n",
       "2007-01-23       NA       NA       NA      NA -302706614\n",
       "2007-01-24       NA       NA       NA      NA  -70531111\n",
       "2007-01-25       NA       NA       NA      NA -297290014\n",
       "2007-01-26       NA       NA       NA      NA -544046580\n",
       "2007-01-29       NA       NA       NA      NA -318430266\n",
       "2007-01-30       NA       NA       NA      NA -463121582\n",
       "2007-01-31 2.180384       NA       NA 12.6975 -249003692\n",
       "2007-02-01 2.163872       NA 40.18729 12.7045 -415234995\n",
       "2007-02-02 2.117590       NA 38.72895 12.6980 -415234995\n",
       "2007-02-05 2.122533       NA 36.64901 12.6900 -560399189\n",
       "2007-02-06 2.074875       NA 41.56288 12.6805 -344141364\n",
       "2007-02-07 1.829158 2.081402 44.91273 12.6350  -76874560\n",
       "2007-02-08 1.615096 1.948172 39.49485 12.5575  -76874560\n",
       "2007-02-09 1.676362 1.870512 45.19084 12.4680 -292109496\n",
       "2007-02-12 1.556734 1.780861 42.52182 12.3985 -110996704\n",
       "2007-02-13 1.466040 1.690912 39.69721 12.3095 -259750519\n",
       "2007-02-14 1.313790 1.583163 37.38398 12.2410 -132695766"
      ]
     },
     "metadata": {},
     "output_type": "display_data"
    }
   ],
   "source": [
    "head(cAAPL,30)"
   ]
  },
  {
   "cell_type": "markdown",
   "metadata": {},
   "source": [
    "Após a composição, foram realizados ajustes para facilitação da manipulação dos dados"
   ]
  },
  {
   "cell_type": "code",
   "execution_count": 46,
   "metadata": {
    "collapsed": true
   },
   "outputs": [],
   "source": [
    "\n",
    "#Transformando em DataFrame para facilictar a manipulacao\n",
    "cdfAAPL<-as.data.frame(cAAPL)\n",
    "\n",
    "\n",
    "#Criando a matriz da Ação a ser Analisada, retirando a indexação pelo atributo data(xts)\n",
    "AAPLBD<-data.frame(date = index(cdfAAPL),cdfAAPL, row.names=NULL)\n",
    "\n",
    "\n",
    "#Atribuindo nome as colunas\n",
    "colnames(AAPLBD)<-c(\"Date\",\"OpenPrice\",\"HighPrice\",\"LowPrice\",\"ClosePrice\",\"Volume\",\"+dirInd\",\"-dirInd\",\"dirind\",\"ADX\",\"dnBB\",\"MaAvg\",\"UpBB\",\"pctB\",\"EMA\",\"MACD\",\"MACDsignal\",\"RSI\",\"SMA\",\"OBV\")\n",
    "\n"
   ]
  },
  {
   "cell_type": "markdown",
   "metadata": {},
   "source": [
    "<h3>Limpeza dos dados</h3>"
   ]
  },
  {
   "cell_type": "code",
   "execution_count": 47,
   "metadata": {
    "collapsed": true
   },
   "outputs": [],
   "source": [
    "#Retirando a Coluna da Data\n",
    "dadoLimpo<-AAPLBD[,-c(1)]\n",
    "\n",
    "#retirando as linhas com valor nulo, provenientes das composi??es de atributos\n",
    "dadoLimpo<-dadoLimpo[-c(1:50),]"
   ]
  },
  {
   "cell_type": "code",
   "execution_count": 48,
   "metadata": {},
   "outputs": [
    {
     "data": {
      "text/html": [
       "<table>\n",
       "<thead><tr><th></th><th scope=col>OpenPrice</th><th scope=col>HighPrice</th><th scope=col>LowPrice</th><th scope=col>ClosePrice</th><th scope=col>Volume</th><th scope=col>+dirInd</th><th scope=col>-dirInd</th><th scope=col>dirind</th><th scope=col>ADX</th><th scope=col>dnBB</th><th scope=col>MaAvg</th><th scope=col>UpBB</th><th scope=col>pctB</th><th scope=col>EMA</th><th scope=col>MACD</th><th scope=col>MACDsignal</th><th scope=col>RSI</th><th scope=col>SMA</th><th scope=col>OBV</th></tr></thead>\n",
       "<tbody>\n",
       "\t<tr><th scope=row>51</th><td>12.79      </td><td>12.86      </td><td>12.76      </td><td>12.80      </td><td>142940707  </td><td>58.21453   </td><td>28.93825   </td><td>33.591902  </td><td>20.43897   </td><td>12.03229   </td><td>12.53017   </td><td>13.02804   </td><td>0.777678687</td><td>12.56722   </td><td>-0.68144857</td><td>-0.49476784</td><td>45.51297   </td><td>12.5275    </td><td> 514492335 </td></tr>\n",
       "\t<tr><th scope=row>52</th><td>12.89      </td><td>13.08      </td><td>12.80      </td><td>13.02      </td><td>178300199  </td><td>58.91860   </td><td>27.84920   </td><td>35.807519  </td><td>21.20740   </td><td>12.07354   </td><td>12.57167   </td><td>13.06979   </td><td>0.896484752</td><td>12.61034   </td><td>-0.81951094</td><td>-0.58755159</td><td>48.79545   </td><td>12.5725    </td><td> 692792534 </td></tr>\n",
       "\t<tr><th scope=row>53</th><td>13.05      </td><td>13.12      </td><td>13.01      </td><td>13.07      </td><td>122318448  </td><td>59.27830   </td><td>25.87780   </td><td>39.222683  </td><td>22.10816   </td><td>12.10314   </td><td>12.61500   </td><td>13.12686   </td><td>0.941203797</td><td>12.65412   </td><td>-0.93679053</td><td>-0.68733414</td><td>42.41155   </td><td>12.6125    </td><td> 815110982 </td></tr>\n",
       "\t<tr><th scope=row>54</th><td>13.14      </td><td>13.43      </td><td>13.09      </td><td>13.41      </td><td>171861921  </td><td>59.64955   </td><td>24.91250   </td><td>41.078769  </td><td>23.05669   </td><td>12.05593   </td><td>12.65050   </td><td>13.24507   </td><td>1.054599903</td><td>12.72611   </td><td>-1.19342645</td><td>-0.83193194</td><td>47.82387   </td><td>12.6460    </td><td> 986972903 </td></tr>\n",
       "\t<tr><th scope=row>55</th><td>13.39      </td><td>13.48      </td><td>13.29      </td><td>13.42      </td><td>141322034  </td><td>61.61729   </td><td>22.84267   </td><td>45.908874  </td><td>24.19930   </td><td>12.00439   </td><td>12.68017   </td><td>13.35595   </td><td>1.030128695</td><td>12.79219   </td><td>-1.36976446</td><td>-0.98559838</td><td>44.89932   </td><td>12.6775    </td><td>1128294937 </td></tr>\n",
       "\t<tr><th scope=row>56</th><td>13.34      </td><td>13.44      </td><td>13.33      </td><td>13.36      </td><td>112838579  </td><td>60.73205   </td><td>23.66384   </td><td>43.921829  </td><td>25.18543   </td><td>11.96984   </td><td>12.71033   </td><td>13.45082   </td><td>0.949927891</td><td>12.84627   </td><td>-1.44692352</td><td>-1.11740556</td><td>41.61834   </td><td>12.7095    </td><td>1015456358 </td></tr>\n",
       "\t<tr><th scope=row>57</th><td>13.43      </td><td>13.70      </td><td>13.33      </td><td>13.69      </td><td>216414128  </td><td>61.59130   </td><td>22.96912   </td><td>45.674063  </td><td>26.20986   </td><td>11.92487   </td><td>12.75500   </td><td>13.58513   </td><td>0.992895575</td><td>12.92662   </td><td>-1.65426047</td><td>-1.27079268</td><td>53.66339   </td><td>12.7610    </td><td>1231870486 </td></tr>\n",
       "\t<tr><th scope=row>58</th><td>13.67      </td><td>13.83      </td><td>13.57      </td><td>13.64      </td><td>233172905  </td><td>62.44672   </td><td>20.78522   </td><td>50.054708  </td><td>27.40210   </td><td>11.96466   </td><td>12.83317   </td><td>13.70167   </td><td>0.987522482</td><td>12.99457   </td><td>-1.75518135</td><td>-1.40918944</td><td>55.52323   </td><td>12.8435    </td><td> 998697581 </td></tr>\n",
       "\t<tr><th scope=row>59</th><td>13.55      </td><td>13.63      </td><td>13.31      </td><td>13.32      </td><td>237348986  </td><td>62.44672   </td><td>26.67252   </td><td>40.141958  </td><td>28.03909   </td><td>12.07344   </td><td>12.90117   </td><td>13.72889   </td><td>0.813409932</td><td>13.02556   </td><td>-1.63647291</td><td>-1.47412758</td><td>56.98375   </td><td>12.9050    </td><td> 761348595 </td></tr>\n",
       "\t<tr><th scope=row>60</th><td>13.46      </td><td>13.46      </td><td>13.18      </td><td>13.39      </td><td>181498436  </td><td>59.67319   </td><td>30.52150   </td><td>32.320853  </td><td>28.25318   </td><td>12.14438   </td><td>12.95133   </td><td>13.75829   </td><td>0.742887795</td><td>13.06027   </td><td>-1.55741049</td><td>-1.49792270</td><td>49.86277   </td><td>12.9525    </td><td> 942847031 </td></tr>\n",
       "\t<tr><th scope=row>61</th><td>13.47      </td><td>13.53      </td><td>13.25      </td><td>13.27      </td><td>150204215  </td><td>55.01246   </td><td>27.99144   </td><td>32.553922  </td><td>28.46822   </td><td>12.23918   </td><td>13.00417   </td><td>13.76916   </td><td>0.726038077</td><td>13.08024   </td><td>-1.41070624</td><td>-1.47300371</td><td>47.00945   </td><td>13.0060    </td><td> 792642816 </td></tr>\n",
       "\t<tr><th scope=row>62</th><td>13.45      </td><td>13.46      </td><td>13.29      </td><td>13.38      </td><td>125552420  </td><td>51.88986   </td><td>28.38925   </td><td>29.273621  </td><td>28.50849   </td><td>12.32167   </td><td>13.05233   </td><td>13.78299   </td><td>0.721945740</td><td>13.10879   </td><td>-1.33508267</td><td>-1.43359770</td><td>44.16760   </td><td>13.0585    </td><td> 918195236 </td></tr>\n",
       "\t<tr><th scope=row>63</th><td>13.45      </td><td>13.60      </td><td>13.39      </td><td>13.50      </td><td>146093311  </td><td>49.52270   </td><td>27.09417   </td><td>29.273621  </td><td>28.54675   </td><td>12.37878   </td><td>13.09867   </td><td>13.81855   </td><td>0.776433448</td><td>13.14605   </td><td>-1.31935036</td><td>-1.40095560</td><td>47.25447   </td><td>13.1035    </td><td>1064288547 </td></tr>\n",
       "\t<tr><th scope=row>64</th><td>13.56      </td><td>13.59      </td><td>13.45      </td><td>13.47      </td><td>119275478  </td><td>50.25976   </td><td>25.77890   </td><td>32.195273  </td><td>28.72917   </td><td>12.44650   </td><td>13.14500   </td><td>13.84350   </td><td>0.756502620</td><td>13.17690   </td><td>-1.27079811</td><td>-1.36376774</td><td>43.74040   </td><td>13.1505    </td><td> 945013069 </td></tr>\n",
       "\t<tr><th scope=row>65</th><td>13.45      </td><td>13.53      </td><td>13.36      </td><td>13.53      </td><td> 88935952  </td><td>50.25976   </td><td>27.58241   </td><td>29.132481  </td><td>28.74934   </td><td>12.52891   </td><td>13.18983   </td><td>13.85076   </td><td>0.714472624</td><td>13.21053   </td><td>-1.24511877</td><td>-1.32986804</td><td>39.67588   </td><td>13.1985    </td><td>1033949021 </td></tr>\n",
       "\t<tr><th scope=row>66</th><td>13.60      </td><td>13.61      </td><td>13.29      </td><td>13.38      </td><td>103410895  </td><td>51.12364   </td><td>25.63571   </td><td>33.204989  </td><td>28.97212   </td><td>12.62590   </td><td>13.23200   </td><td>13.83810   </td><td>0.660589535</td><td>13.22667   </td><td>-1.12804883</td><td>-1.27220541</td><td>41.46297   </td><td>13.2390    </td><td> 930538126 </td></tr>\n",
       "\t<tr><th scope=row>67</th><td>13.38      </td><td>13.46      </td><td>13.34      </td><td>13.46      </td><td> 88186308  </td><td>49.73797   </td><td>29.45827   </td><td>25.606896  </td><td>28.80386   </td><td>12.69522   </td><td>13.26517   </td><td>13.83511   </td><td>0.635831744</td><td>13.24889   </td><td>-1.06353357</td><td>-1.21258488</td><td>38.58570   </td><td>13.2700    </td><td>1018724434 </td></tr>\n",
       "\t<tr><th scope=row>68</th><td>13.41      </td><td>13.42      </td><td>13.19      </td><td>13.23      </td><td>137433604  </td><td>48.65821   </td><td>30.05927   </td><td>23.627448  </td><td>28.54504   </td><td>12.77740   </td><td>13.29250   </td><td>13.80760   </td><td>0.487866339</td><td>13.24709   </td><td>-0.87796399</td><td>-1.11697891</td><td>47.24543   </td><td>13.3000    </td><td> 881290830 </td></tr>\n",
       "\t<tr><th scope=row>69</th><td>13.15      </td><td>13.19      </td><td>12.96      </td><td>13.17      </td><td>165983783  </td><td>48.65821   </td><td>37.56765   </td><td>12.862214  </td><td>27.76090   </td><td>12.84689   </td><td>13.30983   </td><td>13.77278   </td><td>0.280571278</td><td>13.23975   </td><td>-0.69211141</td><td>-0.99558820</td><td>52.16138   </td><td>13.3155    </td><td> 715307047 </td></tr>\n",
       "\t<tr><th scope=row>70</th><td>12.99      </td><td>13.06      </td><td>12.87      </td><td>12.89      </td><td>180029703  </td><td>48.16171   </td><td>41.60596   </td><td> 7.303013  </td><td>26.73800   </td><td>12.87498   </td><td>13.31567   </td><td>13.75635   </td><td>0.073766524</td><td>13.20644   </td><td>-0.39153847</td><td>-0.82300256</td><td>54.85358   </td><td>13.3200    </td><td> 535277344 </td></tr>\n",
       "\t<tr><th scope=row>71</th><td>12.94      </td><td>13.07      </td><td>12.89      </td><td>13.06      </td><td>152353544  </td><td>46.98419   </td><td>40.58873   </td><td> 7.303013  </td><td>25.76625   </td><td>12.92432   </td><td>13.32567   </td><td>13.72701   </td><td>0.102589555</td><td>13.19249   </td><td>-0.24800641</td><td>-0.65871795</td><td>50.03252   </td><td>13.3330    </td><td> 687630888 </td></tr>\n",
       "\t<tr><th scope=row>72</th><td>13.14      </td><td>13.19      </td><td>12.81      </td><td>12.91      </td><td>188090343  </td><td>49.76337   </td><td>37.17208   </td><td>14.483489  </td><td>25.20212   </td><td>12.92508   </td><td>13.32583   </td><td>13.72659   </td><td>0.056045355</td><td>13.16559   </td><td>-0.05431548</td><td>-0.48603153</td><td>55.79171   </td><td>13.3275    </td><td> 499540545 </td></tr>\n",
       "\t<tr><th scope=row>73</th><td>12.88      </td><td>12.98      </td><td>12.80      </td><td>12.91      </td><td>116095938  </td><td>48.55863   </td><td>43.53501   </td><td> 5.454896  </td><td>24.21475   </td><td>12.88871   </td><td>13.31733   </td><td>13.74596   </td><td>0.009282001</td><td>13.14125   </td><td> 0.09364071</td><td>-0.32041089</td><td>44.63439   </td><td>13.3195    </td><td> 499540545 </td></tr>\n",
       "\t<tr><th scope=row>74</th><td>12.88      </td><td>13.04      </td><td>12.83      </td><td>12.90      </td><td>106613556  </td><td>47.18442   </td><td>42.30297   </td><td> 5.454896  </td><td>23.27676   </td><td>12.83620   </td><td>13.29800   </td><td>13.75980   </td><td>0.094341285</td><td>13.11827   </td><td> 0.20989581</td><td>-0.16889469</td><td>42.79346   </td><td>13.2940    </td><td> 392926989 </td></tr>\n",
       "\t<tr><th scope=row>75</th><td>12.98      </td><td>13.03      </td><td>12.94      </td><td>13.00      </td><td>131349260  </td><td>48.21504   </td><td>40.06513   </td><td> 9.231871  </td><td>22.57452   </td><td>12.79951   </td><td>13.27767   </td><td>13.75582   </td><td>0.199190561</td><td>13.10701   </td><td> 0.23972413</td><td>-0.05214645</td><td>47.09598   </td><td>13.2730    </td><td> 524276249 </td></tr>\n",
       "\t<tr><th scope=row>76</th><td>13.08      </td><td>13.40      </td><td>13.06      </td><td>13.36      </td><td>195322771  </td><td>49.36189   </td><td>38.08572   </td><td>12.894776  </td><td>22.09053   </td><td>12.79651   </td><td>13.27250   </td><td>13.74849   </td><td>0.500875365</td><td>13.13110   </td><td> 0.06134550</td><td>-0.01972018</td><td>56.69663   </td><td>13.2730    </td><td> 719599020 </td></tr>\n",
       "\t<tr><th scope=row>77</th><td>13.42      </td><td>13.77      </td><td>13.04      </td><td>13.32      </td><td>264109146  </td><td>54.67954   </td><td>33.59338   </td><td>23.887461  </td><td>22.18038   </td><td>12.80413   </td><td>13.26267   </td><td>13.72120   </td><td>0.624309765</td><td>13.14909   </td><td>-0.05156645</td><td>-0.02881912</td><td>64.56429   </td><td>13.2545    </td><td> 455489874 </td></tr>\n",
       "\t<tr><th scope=row>78</th><td>13.46      </td><td>13.63      </td><td>13.40      </td><td>13.62      </td><td>306212928  </td><td>47.76110   </td><td>33.56048   </td><td>17.462306  </td><td>21.94447   </td><td>12.81826   </td><td>13.25617   </td><td>13.69407   </td><td>0.835498569</td><td>13.19394   </td><td>-0.29690096</td><td>-0.10541393</td><td>69.25357   </td><td>13.2535    </td><td> 761702802 </td></tr>\n",
       "\t<tr><th scope=row>79</th><td>14.51      </td><td>14.64      </td><td>14.04      </td><td>14.12      </td><td>435074297  </td><td>59.95424   </td><td>24.82298   </td><td>41.439513  </td><td>22.91923   </td><td>12.67927   </td><td>13.29850   </td><td>13.91773   </td><td>1.281749676</td><td>13.28214   </td><td>-0.73901958</td><td>-0.28644411</td><td>78.31588   </td><td>13.2935    </td><td>1196777099 </td></tr>\n",
       "\t<tr><th scope=row>80</th><td>14.03      </td><td>14.28      </td><td>13.96      </td><td>14.27      </td><td>174995506  </td><td>59.95424   </td><td>33.71120   </td><td>28.017848  </td><td>23.17416   </td><td>12.61312   </td><td>13.33983   </td><td>14.06655   </td><td>1.071178400</td><td>13.37622   </td><td>-1.13065646</td><td>-0.52764764</td><td>50.41697   </td><td>13.3375    </td><td>1371772605 </td></tr>\n",
       "</tbody>\n",
       "</table>\n"
      ],
      "text/latex": [
       "\\begin{tabular}{r|lllllllllllllllllll}\n",
       "  & OpenPrice & HighPrice & LowPrice & ClosePrice & Volume & +dirInd & -dirInd & dirind & ADX & dnBB & MaAvg & UpBB & pctB & EMA & MACD & MACDsignal & RSI & SMA & OBV\\\\\n",
       "\\hline\n",
       "\t51 & 12.79       & 12.86       & 12.76       & 12.80       & 142940707   & 58.21453    & 28.93825    & 33.591902   & 20.43897    & 12.03229    & 12.53017    & 13.02804    & 0.777678687 & 12.56722    & -0.68144857 & -0.49476784 & 45.51297    & 12.5275     &  514492335 \\\\\n",
       "\t52 & 12.89       & 13.08       & 12.80       & 13.02       & 178300199   & 58.91860    & 27.84920    & 35.807519   & 21.20740    & 12.07354    & 12.57167    & 13.06979    & 0.896484752 & 12.61034    & -0.81951094 & -0.58755159 & 48.79545    & 12.5725     &  692792534 \\\\\n",
       "\t53 & 13.05       & 13.12       & 13.01       & 13.07       & 122318448   & 59.27830    & 25.87780    & 39.222683   & 22.10816    & 12.10314    & 12.61500    & 13.12686    & 0.941203797 & 12.65412    & -0.93679053 & -0.68733414 & 42.41155    & 12.6125     &  815110982 \\\\\n",
       "\t54 & 13.14       & 13.43       & 13.09       & 13.41       & 171861921   & 59.64955    & 24.91250    & 41.078769   & 23.05669    & 12.05593    & 12.65050    & 13.24507    & 1.054599903 & 12.72611    & -1.19342645 & -0.83193194 & 47.82387    & 12.6460     &  986972903 \\\\\n",
       "\t55 & 13.39       & 13.48       & 13.29       & 13.42       & 141322034   & 61.61729    & 22.84267    & 45.908874   & 24.19930    & 12.00439    & 12.68017    & 13.35595    & 1.030128695 & 12.79219    & -1.36976446 & -0.98559838 & 44.89932    & 12.6775     & 1128294937 \\\\\n",
       "\t56 & 13.34       & 13.44       & 13.33       & 13.36       & 112838579   & 60.73205    & 23.66384    & 43.921829   & 25.18543    & 11.96984    & 12.71033    & 13.45082    & 0.949927891 & 12.84627    & -1.44692352 & -1.11740556 & 41.61834    & 12.7095     & 1015456358 \\\\\n",
       "\t57 & 13.43       & 13.70       & 13.33       & 13.69       & 216414128   & 61.59130    & 22.96912    & 45.674063   & 26.20986    & 11.92487    & 12.75500    & 13.58513    & 0.992895575 & 12.92662    & -1.65426047 & -1.27079268 & 53.66339    & 12.7610     & 1231870486 \\\\\n",
       "\t58 & 13.67       & 13.83       & 13.57       & 13.64       & 233172905   & 62.44672    & 20.78522    & 50.054708   & 27.40210    & 11.96466    & 12.83317    & 13.70167    & 0.987522482 & 12.99457    & -1.75518135 & -1.40918944 & 55.52323    & 12.8435     &  998697581 \\\\\n",
       "\t59 & 13.55       & 13.63       & 13.31       & 13.32       & 237348986   & 62.44672    & 26.67252    & 40.141958   & 28.03909    & 12.07344    & 12.90117    & 13.72889    & 0.813409932 & 13.02556    & -1.63647291 & -1.47412758 & 56.98375    & 12.9050     &  761348595 \\\\\n",
       "\t60 & 13.46       & 13.46       & 13.18       & 13.39       & 181498436   & 59.67319    & 30.52150    & 32.320853   & 28.25318    & 12.14438    & 12.95133    & 13.75829    & 0.742887795 & 13.06027    & -1.55741049 & -1.49792270 & 49.86277    & 12.9525     &  942847031 \\\\\n",
       "\t61 & 13.47       & 13.53       & 13.25       & 13.27       & 150204215   & 55.01246    & 27.99144    & 32.553922   & 28.46822    & 12.23918    & 13.00417    & 13.76916    & 0.726038077 & 13.08024    & -1.41070624 & -1.47300371 & 47.00945    & 13.0060     &  792642816 \\\\\n",
       "\t62 & 13.45       & 13.46       & 13.29       & 13.38       & 125552420   & 51.88986    & 28.38925    & 29.273621   & 28.50849    & 12.32167    & 13.05233    & 13.78299    & 0.721945740 & 13.10879    & -1.33508267 & -1.43359770 & 44.16760    & 13.0585     &  918195236 \\\\\n",
       "\t63 & 13.45       & 13.60       & 13.39       & 13.50       & 146093311   & 49.52270    & 27.09417    & 29.273621   & 28.54675    & 12.37878    & 13.09867    & 13.81855    & 0.776433448 & 13.14605    & -1.31935036 & -1.40095560 & 47.25447    & 13.1035     & 1064288547 \\\\\n",
       "\t64 & 13.56       & 13.59       & 13.45       & 13.47       & 119275478   & 50.25976    & 25.77890    & 32.195273   & 28.72917    & 12.44650    & 13.14500    & 13.84350    & 0.756502620 & 13.17690    & -1.27079811 & -1.36376774 & 43.74040    & 13.1505     &  945013069 \\\\\n",
       "\t65 & 13.45       & 13.53       & 13.36       & 13.53       &  88935952   & 50.25976    & 27.58241    & 29.132481   & 28.74934    & 12.52891    & 13.18983    & 13.85076    & 0.714472624 & 13.21053    & -1.24511877 & -1.32986804 & 39.67588    & 13.1985     & 1033949021 \\\\\n",
       "\t66 & 13.60       & 13.61       & 13.29       & 13.38       & 103410895   & 51.12364    & 25.63571    & 33.204989   & 28.97212    & 12.62590    & 13.23200    & 13.83810    & 0.660589535 & 13.22667    & -1.12804883 & -1.27220541 & 41.46297    & 13.2390     &  930538126 \\\\\n",
       "\t67 & 13.38       & 13.46       & 13.34       & 13.46       &  88186308   & 49.73797    & 29.45827    & 25.606896   & 28.80386    & 12.69522    & 13.26517    & 13.83511    & 0.635831744 & 13.24889    & -1.06353357 & -1.21258488 & 38.58570    & 13.2700     & 1018724434 \\\\\n",
       "\t68 & 13.41       & 13.42       & 13.19       & 13.23       & 137433604   & 48.65821    & 30.05927    & 23.627448   & 28.54504    & 12.77740    & 13.29250    & 13.80760    & 0.487866339 & 13.24709    & -0.87796399 & -1.11697891 & 47.24543    & 13.3000     &  881290830 \\\\\n",
       "\t69 & 13.15       & 13.19       & 12.96       & 13.17       & 165983783   & 48.65821    & 37.56765    & 12.862214   & 27.76090    & 12.84689    & 13.30983    & 13.77278    & 0.280571278 & 13.23975    & -0.69211141 & -0.99558820 & 52.16138    & 13.3155     &  715307047 \\\\\n",
       "\t70 & 12.99       & 13.06       & 12.87       & 12.89       & 180029703   & 48.16171    & 41.60596    &  7.303013   & 26.73800    & 12.87498    & 13.31567    & 13.75635    & 0.073766524 & 13.20644    & -0.39153847 & -0.82300256 & 54.85358    & 13.3200     &  535277344 \\\\\n",
       "\t71 & 12.94       & 13.07       & 12.89       & 13.06       & 152353544   & 46.98419    & 40.58873    &  7.303013   & 25.76625    & 12.92432    & 13.32567    & 13.72701    & 0.102589555 & 13.19249    & -0.24800641 & -0.65871795 & 50.03252    & 13.3330     &  687630888 \\\\\n",
       "\t72 & 13.14       & 13.19       & 12.81       & 12.91       & 188090343   & 49.76337    & 37.17208    & 14.483489   & 25.20212    & 12.92508    & 13.32583    & 13.72659    & 0.056045355 & 13.16559    & -0.05431548 & -0.48603153 & 55.79171    & 13.3275     &  499540545 \\\\\n",
       "\t73 & 12.88       & 12.98       & 12.80       & 12.91       & 116095938   & 48.55863    & 43.53501    &  5.454896   & 24.21475    & 12.88871    & 13.31733    & 13.74596    & 0.009282001 & 13.14125    &  0.09364071 & -0.32041089 & 44.63439    & 13.3195     &  499540545 \\\\\n",
       "\t74 & 12.88       & 13.04       & 12.83       & 12.90       & 106613556   & 47.18442    & 42.30297    &  5.454896   & 23.27676    & 12.83620    & 13.29800    & 13.75980    & 0.094341285 & 13.11827    &  0.20989581 & -0.16889469 & 42.79346    & 13.2940     &  392926989 \\\\\n",
       "\t75 & 12.98       & 13.03       & 12.94       & 13.00       & 131349260   & 48.21504    & 40.06513    &  9.231871   & 22.57452    & 12.79951    & 13.27767    & 13.75582    & 0.199190561 & 13.10701    &  0.23972413 & -0.05214645 & 47.09598    & 13.2730     &  524276249 \\\\\n",
       "\t76 & 13.08       & 13.40       & 13.06       & 13.36       & 195322771   & 49.36189    & 38.08572    & 12.894776   & 22.09053    & 12.79651    & 13.27250    & 13.74849    & 0.500875365 & 13.13110    &  0.06134550 & -0.01972018 & 56.69663    & 13.2730     &  719599020 \\\\\n",
       "\t77 & 13.42       & 13.77       & 13.04       & 13.32       & 264109146   & 54.67954    & 33.59338    & 23.887461   & 22.18038    & 12.80413    & 13.26267    & 13.72120    & 0.624309765 & 13.14909    & -0.05156645 & -0.02881912 & 64.56429    & 13.2545     &  455489874 \\\\\n",
       "\t78 & 13.46       & 13.63       & 13.40       & 13.62       & 306212928   & 47.76110    & 33.56048    & 17.462306   & 21.94447    & 12.81826    & 13.25617    & 13.69407    & 0.835498569 & 13.19394    & -0.29690096 & -0.10541393 & 69.25357    & 13.2535     &  761702802 \\\\\n",
       "\t79 & 14.51       & 14.64       & 14.04       & 14.12       & 435074297   & 59.95424    & 24.82298    & 41.439513   & 22.91923    & 12.67927    & 13.29850    & 13.91773    & 1.281749676 & 13.28214    & -0.73901958 & -0.28644411 & 78.31588    & 13.2935     & 1196777099 \\\\\n",
       "\t80 & 14.03       & 14.28       & 13.96       & 14.27       & 174995506   & 59.95424    & 33.71120    & 28.017848   & 23.17416    & 12.61312    & 13.33983    & 14.06655    & 1.071178400 & 13.37622    & -1.13065646 & -0.52764764 & 50.41697    & 13.3375     & 1371772605 \\\\\n",
       "\\end{tabular}\n"
      ],
      "text/markdown": [
       "\n",
       "| <!--/--> | OpenPrice | HighPrice | LowPrice | ClosePrice | Volume | +dirInd | -dirInd | dirind | ADX | dnBB | MaAvg | UpBB | pctB | EMA | MACD | MACDsignal | RSI | SMA | OBV | \n",
       "|---|---|---|---|---|---|---|---|---|---|---|---|---|---|---|---|---|---|---|---|---|---|---|---|---|---|---|---|---|---|\n",
       "| 51 | 12.79       | 12.86       | 12.76       | 12.80       | 142940707   | 58.21453    | 28.93825    | 33.591902   | 20.43897    | 12.03229    | 12.53017    | 13.02804    | 0.777678687 | 12.56722    | -0.68144857 | -0.49476784 | 45.51297    | 12.5275     |  514492335  | \n",
       "| 52 | 12.89       | 13.08       | 12.80       | 13.02       | 178300199   | 58.91860    | 27.84920    | 35.807519   | 21.20740    | 12.07354    | 12.57167    | 13.06979    | 0.896484752 | 12.61034    | -0.81951094 | -0.58755159 | 48.79545    | 12.5725     |  692792534  | \n",
       "| 53 | 13.05       | 13.12       | 13.01       | 13.07       | 122318448   | 59.27830    | 25.87780    | 39.222683   | 22.10816    | 12.10314    | 12.61500    | 13.12686    | 0.941203797 | 12.65412    | -0.93679053 | -0.68733414 | 42.41155    | 12.6125     |  815110982  | \n",
       "| 54 | 13.14       | 13.43       | 13.09       | 13.41       | 171861921   | 59.64955    | 24.91250    | 41.078769   | 23.05669    | 12.05593    | 12.65050    | 13.24507    | 1.054599903 | 12.72611    | -1.19342645 | -0.83193194 | 47.82387    | 12.6460     |  986972903  | \n",
       "| 55 | 13.39       | 13.48       | 13.29       | 13.42       | 141322034   | 61.61729    | 22.84267    | 45.908874   | 24.19930    | 12.00439    | 12.68017    | 13.35595    | 1.030128695 | 12.79219    | -1.36976446 | -0.98559838 | 44.89932    | 12.6775     | 1128294937  | \n",
       "| 56 | 13.34       | 13.44       | 13.33       | 13.36       | 112838579   | 60.73205    | 23.66384    | 43.921829   | 25.18543    | 11.96984    | 12.71033    | 13.45082    | 0.949927891 | 12.84627    | -1.44692352 | -1.11740556 | 41.61834    | 12.7095     | 1015456358  | \n",
       "| 57 | 13.43       | 13.70       | 13.33       | 13.69       | 216414128   | 61.59130    | 22.96912    | 45.674063   | 26.20986    | 11.92487    | 12.75500    | 13.58513    | 0.992895575 | 12.92662    | -1.65426047 | -1.27079268 | 53.66339    | 12.7610     | 1231870486  | \n",
       "| 58 | 13.67       | 13.83       | 13.57       | 13.64       | 233172905   | 62.44672    | 20.78522    | 50.054708   | 27.40210    | 11.96466    | 12.83317    | 13.70167    | 0.987522482 | 12.99457    | -1.75518135 | -1.40918944 | 55.52323    | 12.8435     |  998697581  | \n",
       "| 59 | 13.55       | 13.63       | 13.31       | 13.32       | 237348986   | 62.44672    | 26.67252    | 40.141958   | 28.03909    | 12.07344    | 12.90117    | 13.72889    | 0.813409932 | 13.02556    | -1.63647291 | -1.47412758 | 56.98375    | 12.9050     |  761348595  | \n",
       "| 60 | 13.46       | 13.46       | 13.18       | 13.39       | 181498436   | 59.67319    | 30.52150    | 32.320853   | 28.25318    | 12.14438    | 12.95133    | 13.75829    | 0.742887795 | 13.06027    | -1.55741049 | -1.49792270 | 49.86277    | 12.9525     |  942847031  | \n",
       "| 61 | 13.47       | 13.53       | 13.25       | 13.27       | 150204215   | 55.01246    | 27.99144    | 32.553922   | 28.46822    | 12.23918    | 13.00417    | 13.76916    | 0.726038077 | 13.08024    | -1.41070624 | -1.47300371 | 47.00945    | 13.0060     |  792642816  | \n",
       "| 62 | 13.45       | 13.46       | 13.29       | 13.38       | 125552420   | 51.88986    | 28.38925    | 29.273621   | 28.50849    | 12.32167    | 13.05233    | 13.78299    | 0.721945740 | 13.10879    | -1.33508267 | -1.43359770 | 44.16760    | 13.0585     |  918195236  | \n",
       "| 63 | 13.45       | 13.60       | 13.39       | 13.50       | 146093311   | 49.52270    | 27.09417    | 29.273621   | 28.54675    | 12.37878    | 13.09867    | 13.81855    | 0.776433448 | 13.14605    | -1.31935036 | -1.40095560 | 47.25447    | 13.1035     | 1064288547  | \n",
       "| 64 | 13.56       | 13.59       | 13.45       | 13.47       | 119275478   | 50.25976    | 25.77890    | 32.195273   | 28.72917    | 12.44650    | 13.14500    | 13.84350    | 0.756502620 | 13.17690    | -1.27079811 | -1.36376774 | 43.74040    | 13.1505     |  945013069  | \n",
       "| 65 | 13.45       | 13.53       | 13.36       | 13.53       |  88935952   | 50.25976    | 27.58241    | 29.132481   | 28.74934    | 12.52891    | 13.18983    | 13.85076    | 0.714472624 | 13.21053    | -1.24511877 | -1.32986804 | 39.67588    | 13.1985     | 1033949021  | \n",
       "| 66 | 13.60       | 13.61       | 13.29       | 13.38       | 103410895   | 51.12364    | 25.63571    | 33.204989   | 28.97212    | 12.62590    | 13.23200    | 13.83810    | 0.660589535 | 13.22667    | -1.12804883 | -1.27220541 | 41.46297    | 13.2390     |  930538126  | \n",
       "| 67 | 13.38       | 13.46       | 13.34       | 13.46       |  88186308   | 49.73797    | 29.45827    | 25.606896   | 28.80386    | 12.69522    | 13.26517    | 13.83511    | 0.635831744 | 13.24889    | -1.06353357 | -1.21258488 | 38.58570    | 13.2700     | 1018724434  | \n",
       "| 68 | 13.41       | 13.42       | 13.19       | 13.23       | 137433604   | 48.65821    | 30.05927    | 23.627448   | 28.54504    | 12.77740    | 13.29250    | 13.80760    | 0.487866339 | 13.24709    | -0.87796399 | -1.11697891 | 47.24543    | 13.3000     |  881290830  | \n",
       "| 69 | 13.15       | 13.19       | 12.96       | 13.17       | 165983783   | 48.65821    | 37.56765    | 12.862214   | 27.76090    | 12.84689    | 13.30983    | 13.77278    | 0.280571278 | 13.23975    | -0.69211141 | -0.99558820 | 52.16138    | 13.3155     |  715307047  | \n",
       "| 70 | 12.99       | 13.06       | 12.87       | 12.89       | 180029703   | 48.16171    | 41.60596    |  7.303013   | 26.73800    | 12.87498    | 13.31567    | 13.75635    | 0.073766524 | 13.20644    | -0.39153847 | -0.82300256 | 54.85358    | 13.3200     |  535277344  | \n",
       "| 71 | 12.94       | 13.07       | 12.89       | 13.06       | 152353544   | 46.98419    | 40.58873    |  7.303013   | 25.76625    | 12.92432    | 13.32567    | 13.72701    | 0.102589555 | 13.19249    | -0.24800641 | -0.65871795 | 50.03252    | 13.3330     |  687630888  | \n",
       "| 72 | 13.14       | 13.19       | 12.81       | 12.91       | 188090343   | 49.76337    | 37.17208    | 14.483489   | 25.20212    | 12.92508    | 13.32583    | 13.72659    | 0.056045355 | 13.16559    | -0.05431548 | -0.48603153 | 55.79171    | 13.3275     |  499540545  | \n",
       "| 73 | 12.88       | 12.98       | 12.80       | 12.91       | 116095938   | 48.55863    | 43.53501    |  5.454896   | 24.21475    | 12.88871    | 13.31733    | 13.74596    | 0.009282001 | 13.14125    |  0.09364071 | -0.32041089 | 44.63439    | 13.3195     |  499540545  | \n",
       "| 74 | 12.88       | 13.04       | 12.83       | 12.90       | 106613556   | 47.18442    | 42.30297    |  5.454896   | 23.27676    | 12.83620    | 13.29800    | 13.75980    | 0.094341285 | 13.11827    |  0.20989581 | -0.16889469 | 42.79346    | 13.2940     |  392926989  | \n",
       "| 75 | 12.98       | 13.03       | 12.94       | 13.00       | 131349260   | 48.21504    | 40.06513    |  9.231871   | 22.57452    | 12.79951    | 13.27767    | 13.75582    | 0.199190561 | 13.10701    |  0.23972413 | -0.05214645 | 47.09598    | 13.2730     |  524276249  | \n",
       "| 76 | 13.08       | 13.40       | 13.06       | 13.36       | 195322771   | 49.36189    | 38.08572    | 12.894776   | 22.09053    | 12.79651    | 13.27250    | 13.74849    | 0.500875365 | 13.13110    |  0.06134550 | -0.01972018 | 56.69663    | 13.2730     |  719599020  | \n",
       "| 77 | 13.42       | 13.77       | 13.04       | 13.32       | 264109146   | 54.67954    | 33.59338    | 23.887461   | 22.18038    | 12.80413    | 13.26267    | 13.72120    | 0.624309765 | 13.14909    | -0.05156645 | -0.02881912 | 64.56429    | 13.2545     |  455489874  | \n",
       "| 78 | 13.46       | 13.63       | 13.40       | 13.62       | 306212928   | 47.76110    | 33.56048    | 17.462306   | 21.94447    | 12.81826    | 13.25617    | 13.69407    | 0.835498569 | 13.19394    | -0.29690096 | -0.10541393 | 69.25357    | 13.2535     |  761702802  | \n",
       "| 79 | 14.51       | 14.64       | 14.04       | 14.12       | 435074297   | 59.95424    | 24.82298    | 41.439513   | 22.91923    | 12.67927    | 13.29850    | 13.91773    | 1.281749676 | 13.28214    | -0.73901958 | -0.28644411 | 78.31588    | 13.2935     | 1196777099  | \n",
       "| 80 | 14.03       | 14.28       | 13.96       | 14.27       | 174995506   | 59.95424    | 33.71120    | 28.017848   | 23.17416    | 12.61312    | 13.33983    | 14.06655    | 1.071178400 | 13.37622    | -1.13065646 | -0.52764764 | 50.41697    | 13.3375     | 1371772605  | \n",
       "\n",
       "\n"
      ],
      "text/plain": [
       "   OpenPrice HighPrice LowPrice ClosePrice Volume    +dirInd  -dirInd \n",
       "51 12.79     12.86     12.76    12.80      142940707 58.21453 28.93825\n",
       "52 12.89     13.08     12.80    13.02      178300199 58.91860 27.84920\n",
       "53 13.05     13.12     13.01    13.07      122318448 59.27830 25.87780\n",
       "54 13.14     13.43     13.09    13.41      171861921 59.64955 24.91250\n",
       "55 13.39     13.48     13.29    13.42      141322034 61.61729 22.84267\n",
       "56 13.34     13.44     13.33    13.36      112838579 60.73205 23.66384\n",
       "57 13.43     13.70     13.33    13.69      216414128 61.59130 22.96912\n",
       "58 13.67     13.83     13.57    13.64      233172905 62.44672 20.78522\n",
       "59 13.55     13.63     13.31    13.32      237348986 62.44672 26.67252\n",
       "60 13.46     13.46     13.18    13.39      181498436 59.67319 30.52150\n",
       "61 13.47     13.53     13.25    13.27      150204215 55.01246 27.99144\n",
       "62 13.45     13.46     13.29    13.38      125552420 51.88986 28.38925\n",
       "63 13.45     13.60     13.39    13.50      146093311 49.52270 27.09417\n",
       "64 13.56     13.59     13.45    13.47      119275478 50.25976 25.77890\n",
       "65 13.45     13.53     13.36    13.53       88935952 50.25976 27.58241\n",
       "66 13.60     13.61     13.29    13.38      103410895 51.12364 25.63571\n",
       "67 13.38     13.46     13.34    13.46       88186308 49.73797 29.45827\n",
       "68 13.41     13.42     13.19    13.23      137433604 48.65821 30.05927\n",
       "69 13.15     13.19     12.96    13.17      165983783 48.65821 37.56765\n",
       "70 12.99     13.06     12.87    12.89      180029703 48.16171 41.60596\n",
       "71 12.94     13.07     12.89    13.06      152353544 46.98419 40.58873\n",
       "72 13.14     13.19     12.81    12.91      188090343 49.76337 37.17208\n",
       "73 12.88     12.98     12.80    12.91      116095938 48.55863 43.53501\n",
       "74 12.88     13.04     12.83    12.90      106613556 47.18442 42.30297\n",
       "75 12.98     13.03     12.94    13.00      131349260 48.21504 40.06513\n",
       "76 13.08     13.40     13.06    13.36      195322771 49.36189 38.08572\n",
       "77 13.42     13.77     13.04    13.32      264109146 54.67954 33.59338\n",
       "78 13.46     13.63     13.40    13.62      306212928 47.76110 33.56048\n",
       "79 14.51     14.64     14.04    14.12      435074297 59.95424 24.82298\n",
       "80 14.03     14.28     13.96    14.27      174995506 59.95424 33.71120\n",
       "   dirind    ADX      dnBB     MaAvg    UpBB     pctB        EMA     \n",
       "51 33.591902 20.43897 12.03229 12.53017 13.02804 0.777678687 12.56722\n",
       "52 35.807519 21.20740 12.07354 12.57167 13.06979 0.896484752 12.61034\n",
       "53 39.222683 22.10816 12.10314 12.61500 13.12686 0.941203797 12.65412\n",
       "54 41.078769 23.05669 12.05593 12.65050 13.24507 1.054599903 12.72611\n",
       "55 45.908874 24.19930 12.00439 12.68017 13.35595 1.030128695 12.79219\n",
       "56 43.921829 25.18543 11.96984 12.71033 13.45082 0.949927891 12.84627\n",
       "57 45.674063 26.20986 11.92487 12.75500 13.58513 0.992895575 12.92662\n",
       "58 50.054708 27.40210 11.96466 12.83317 13.70167 0.987522482 12.99457\n",
       "59 40.141958 28.03909 12.07344 12.90117 13.72889 0.813409932 13.02556\n",
       "60 32.320853 28.25318 12.14438 12.95133 13.75829 0.742887795 13.06027\n",
       "61 32.553922 28.46822 12.23918 13.00417 13.76916 0.726038077 13.08024\n",
       "62 29.273621 28.50849 12.32167 13.05233 13.78299 0.721945740 13.10879\n",
       "63 29.273621 28.54675 12.37878 13.09867 13.81855 0.776433448 13.14605\n",
       "64 32.195273 28.72917 12.44650 13.14500 13.84350 0.756502620 13.17690\n",
       "65 29.132481 28.74934 12.52891 13.18983 13.85076 0.714472624 13.21053\n",
       "66 33.204989 28.97212 12.62590 13.23200 13.83810 0.660589535 13.22667\n",
       "67 25.606896 28.80386 12.69522 13.26517 13.83511 0.635831744 13.24889\n",
       "68 23.627448 28.54504 12.77740 13.29250 13.80760 0.487866339 13.24709\n",
       "69 12.862214 27.76090 12.84689 13.30983 13.77278 0.280571278 13.23975\n",
       "70  7.303013 26.73800 12.87498 13.31567 13.75635 0.073766524 13.20644\n",
       "71  7.303013 25.76625 12.92432 13.32567 13.72701 0.102589555 13.19249\n",
       "72 14.483489 25.20212 12.92508 13.32583 13.72659 0.056045355 13.16559\n",
       "73  5.454896 24.21475 12.88871 13.31733 13.74596 0.009282001 13.14125\n",
       "74  5.454896 23.27676 12.83620 13.29800 13.75980 0.094341285 13.11827\n",
       "75  9.231871 22.57452 12.79951 13.27767 13.75582 0.199190561 13.10701\n",
       "76 12.894776 22.09053 12.79651 13.27250 13.74849 0.500875365 13.13110\n",
       "77 23.887461 22.18038 12.80413 13.26267 13.72120 0.624309765 13.14909\n",
       "78 17.462306 21.94447 12.81826 13.25617 13.69407 0.835498569 13.19394\n",
       "79 41.439513 22.91923 12.67927 13.29850 13.91773 1.281749676 13.28214\n",
       "80 28.017848 23.17416 12.61312 13.33983 14.06655 1.071178400 13.37622\n",
       "   MACD        MACDsignal  RSI      SMA     OBV       \n",
       "51 -0.68144857 -0.49476784 45.51297 12.5275  514492335\n",
       "52 -0.81951094 -0.58755159 48.79545 12.5725  692792534\n",
       "53 -0.93679053 -0.68733414 42.41155 12.6125  815110982\n",
       "54 -1.19342645 -0.83193194 47.82387 12.6460  986972903\n",
       "55 -1.36976446 -0.98559838 44.89932 12.6775 1128294937\n",
       "56 -1.44692352 -1.11740556 41.61834 12.7095 1015456358\n",
       "57 -1.65426047 -1.27079268 53.66339 12.7610 1231870486\n",
       "58 -1.75518135 -1.40918944 55.52323 12.8435  998697581\n",
       "59 -1.63647291 -1.47412758 56.98375 12.9050  761348595\n",
       "60 -1.55741049 -1.49792270 49.86277 12.9525  942847031\n",
       "61 -1.41070624 -1.47300371 47.00945 13.0060  792642816\n",
       "62 -1.33508267 -1.43359770 44.16760 13.0585  918195236\n",
       "63 -1.31935036 -1.40095560 47.25447 13.1035 1064288547\n",
       "64 -1.27079811 -1.36376774 43.74040 13.1505  945013069\n",
       "65 -1.24511877 -1.32986804 39.67588 13.1985 1033949021\n",
       "66 -1.12804883 -1.27220541 41.46297 13.2390  930538126\n",
       "67 -1.06353357 -1.21258488 38.58570 13.2700 1018724434\n",
       "68 -0.87796399 -1.11697891 47.24543 13.3000  881290830\n",
       "69 -0.69211141 -0.99558820 52.16138 13.3155  715307047\n",
       "70 -0.39153847 -0.82300256 54.85358 13.3200  535277344\n",
       "71 -0.24800641 -0.65871795 50.03252 13.3330  687630888\n",
       "72 -0.05431548 -0.48603153 55.79171 13.3275  499540545\n",
       "73  0.09364071 -0.32041089 44.63439 13.3195  499540545\n",
       "74  0.20989581 -0.16889469 42.79346 13.2940  392926989\n",
       "75  0.23972413 -0.05214645 47.09598 13.2730  524276249\n",
       "76  0.06134550 -0.01972018 56.69663 13.2730  719599020\n",
       "77 -0.05156645 -0.02881912 64.56429 13.2545  455489874\n",
       "78 -0.29690096 -0.10541393 69.25357 13.2535  761702802\n",
       "79 -0.73901958 -0.28644411 78.31588 13.2935 1196777099\n",
       "80 -1.13065646 -0.52764764 50.41697 13.3375 1371772605"
      ]
     },
     "metadata": {},
     "output_type": "display_data"
    }
   ],
   "source": [
    "head(dadoLimpo,30)"
   ]
  },
  {
   "cell_type": "markdown",
   "metadata": {},
   "source": [
    "<h3>Redução da Dimensionalidade</h3>"
   ]
  },
  {
   "cell_type": "code",
   "execution_count": 58,
   "metadata": {},
   "outputs": [],
   "source": [
    "correlacoes <- cor(dadoLimpo)\n",
    "altacorrelacao<-findCorrelation(correlacoes, cutoff = 0.70)\n"
   ]
  },
  {
   "cell_type": "markdown",
   "metadata": {},
   "source": [
    "Colunas com Alta Correlação"
   ]
  },
  {
   "cell_type": "code",
   "execution_count": 61,
   "metadata": {},
   "outputs": [
    {
     "data": {
      "text/html": [
       "<ol class=list-inline>\n",
       "\t<li>'LowPrice'</li>\n",
       "\t<li>'ClosePrice'</li>\n",
       "\t<li>'OpenPrice'</li>\n",
       "\t<li>'HighPrice'</li>\n",
       "\t<li>'MaAvg'</li>\n",
       "\t<li>'UpBB'</li>\n",
       "\t<li>'dnBB'</li>\n",
       "\t<li>'EMA'</li>\n",
       "\t<li>'OBV'</li>\n",
       "\t<li>'-dirInd'</li>\n",
       "\t<li>'MACD'</li>\n",
       "</ol>\n"
      ],
      "text/latex": [
       "\\begin{enumerate*}\n",
       "\\item 'LowPrice'\n",
       "\\item 'ClosePrice'\n",
       "\\item 'OpenPrice'\n",
       "\\item 'HighPrice'\n",
       "\\item 'MaAvg'\n",
       "\\item 'UpBB'\n",
       "\\item 'dnBB'\n",
       "\\item 'EMA'\n",
       "\\item 'OBV'\n",
       "\\item '-dirInd'\n",
       "\\item 'MACD'\n",
       "\\end{enumerate*}\n"
      ],
      "text/markdown": [
       "1. 'LowPrice'\n",
       "2. 'ClosePrice'\n",
       "3. 'OpenPrice'\n",
       "4. 'HighPrice'\n",
       "5. 'MaAvg'\n",
       "6. 'UpBB'\n",
       "7. 'dnBB'\n",
       "8. 'EMA'\n",
       "9. 'OBV'\n",
       "10. '-dirInd'\n",
       "11. 'MACD'\n",
       "\n",
       "\n"
      ],
      "text/plain": [
       " [1] \"LowPrice\"   \"ClosePrice\" \"OpenPrice\"  \"HighPrice\"  \"MaAvg\"     \n",
       " [6] \"UpBB\"       \"dnBB\"       \"EMA\"        \"OBV\"        \"-dirInd\"   \n",
       "[11] \"MACD\"      "
      ]
     },
     "metadata": {},
     "output_type": "display_data"
    }
   ],
   "source": [
    "names(dadoLimpo[,altacorrelacao])"
   ]
  },
  {
   "cell_type": "markdown",
   "metadata": {},
   "source": [
    "Após a identificação das colunas, a dimensionalidade é reduzida"
   ]
  },
  {
   "cell_type": "code",
   "execution_count": 67,
   "metadata": {
    "collapsed": true
   },
   "outputs": [],
   "source": [
    "cdadoLimpo<-dadoLimpo[,-altacorrelacao]\n",
    "\n",
    "cmLimpa <- cor(cdadoLimpo)"
   ]
  },
  {
   "cell_type": "code",
   "execution_count": 63,
   "metadata": {},
   "outputs": [
    {
     "data": {
      "text/html": [
       "<table>\n",
       "<thead><tr><th></th><th scope=col>Volume</th><th scope=col>+dirInd</th><th scope=col>dirind</th><th scope=col>ADX</th><th scope=col>pctB</th><th scope=col>MACDsignal</th><th scope=col>RSI</th><th scope=col>SMA</th></tr></thead>\n",
       "<tbody>\n",
       "\t<tr><th scope=row>51</th><td>142940707 </td><td>58.21453  </td><td>33.591902 </td><td>20.43897  </td><td>0.77767869</td><td>-0.4947678</td><td>45.51297  </td><td>12.5275   </td></tr>\n",
       "\t<tr><th scope=row>52</th><td>178300199 </td><td>58.91860  </td><td>35.807519 </td><td>21.20740  </td><td>0.89648475</td><td>-0.5875516</td><td>48.79545  </td><td>12.5725   </td></tr>\n",
       "\t<tr><th scope=row>53</th><td>122318448 </td><td>59.27830  </td><td>39.222683 </td><td>22.10816  </td><td>0.94120380</td><td>-0.6873341</td><td>42.41155  </td><td>12.6125   </td></tr>\n",
       "\t<tr><th scope=row>54</th><td>171861921 </td><td>59.64955  </td><td>41.078769 </td><td>23.05669  </td><td>1.05459990</td><td>-0.8319319</td><td>47.82387  </td><td>12.6460   </td></tr>\n",
       "\t<tr><th scope=row>55</th><td>141322034 </td><td>61.61729  </td><td>45.908874 </td><td>24.19930  </td><td>1.03012869</td><td>-0.9855984</td><td>44.89932  </td><td>12.6775   </td></tr>\n",
       "\t<tr><th scope=row>56</th><td>112838579 </td><td>60.73205  </td><td>43.921829 </td><td>25.18543  </td><td>0.94992789</td><td>-1.1174056</td><td>41.61834  </td><td>12.7095   </td></tr>\n",
       "\t<tr><th scope=row>57</th><td>216414128 </td><td>61.59130  </td><td>45.674063 </td><td>26.20986  </td><td>0.99289558</td><td>-1.2707927</td><td>53.66339  </td><td>12.7610   </td></tr>\n",
       "\t<tr><th scope=row>58</th><td>233172905 </td><td>62.44672  </td><td>50.054708 </td><td>27.40210  </td><td>0.98752248</td><td>-1.4091894</td><td>55.52323  </td><td>12.8435   </td></tr>\n",
       "\t<tr><th scope=row>59</th><td>237348986 </td><td>62.44672  </td><td>40.141958 </td><td>28.03909  </td><td>0.81340993</td><td>-1.4741276</td><td>56.98375  </td><td>12.9050   </td></tr>\n",
       "\t<tr><th scope=row>60</th><td>181498436 </td><td>59.67319  </td><td>32.320853 </td><td>28.25318  </td><td>0.74288780</td><td>-1.4979227</td><td>49.86277  </td><td>12.9525   </td></tr>\n",
       "\t<tr><th scope=row>61</th><td>150204215 </td><td>55.01246  </td><td>32.553922 </td><td>28.46822  </td><td>0.72603808</td><td>-1.4730037</td><td>47.00945  </td><td>13.0060   </td></tr>\n",
       "\t<tr><th scope=row>62</th><td>125552420 </td><td>51.88986  </td><td>29.273621 </td><td>28.50849  </td><td>0.72194574</td><td>-1.4335977</td><td>44.16760  </td><td>13.0585   </td></tr>\n",
       "\t<tr><th scope=row>63</th><td>146093311 </td><td>49.52270  </td><td>29.273621 </td><td>28.54675  </td><td>0.77643345</td><td>-1.4009556</td><td>47.25447  </td><td>13.1035   </td></tr>\n",
       "\t<tr><th scope=row>64</th><td>119275478 </td><td>50.25976  </td><td>32.195273 </td><td>28.72917  </td><td>0.75650262</td><td>-1.3637677</td><td>43.74040  </td><td>13.1505   </td></tr>\n",
       "\t<tr><th scope=row>65</th><td> 88935952 </td><td>50.25976  </td><td>29.132481 </td><td>28.74934  </td><td>0.71447262</td><td>-1.3298680</td><td>39.67588  </td><td>13.1985   </td></tr>\n",
       "\t<tr><th scope=row>66</th><td>103410895 </td><td>51.12364  </td><td>33.204989 </td><td>28.97212  </td><td>0.66058953</td><td>-1.2722054</td><td>41.46297  </td><td>13.2390   </td></tr>\n",
       "\t<tr><th scope=row>67</th><td> 88186308 </td><td>49.73797  </td><td>25.606896 </td><td>28.80386  </td><td>0.63583174</td><td>-1.2125849</td><td>38.58570  </td><td>13.2700   </td></tr>\n",
       "\t<tr><th scope=row>68</th><td>137433604 </td><td>48.65821  </td><td>23.627448 </td><td>28.54504  </td><td>0.48786634</td><td>-1.1169789</td><td>47.24543  </td><td>13.3000   </td></tr>\n",
       "\t<tr><th scope=row>69</th><td>165983783 </td><td>48.65821  </td><td>12.862214 </td><td>27.76090  </td><td>0.28057128</td><td>-0.9955882</td><td>52.16138  </td><td>13.3155   </td></tr>\n",
       "\t<tr><th scope=row>70</th><td>180029703 </td><td>48.16171  </td><td> 7.303013 </td><td>26.73800  </td><td>0.07376652</td><td>-0.8230026</td><td>54.85358  </td><td>13.3200   </td></tr>\n",
       "</tbody>\n",
       "</table>\n"
      ],
      "text/latex": [
       "\\begin{tabular}{r|llllllll}\n",
       "  & Volume & +dirInd & dirind & ADX & pctB & MACDsignal & RSI & SMA\\\\\n",
       "\\hline\n",
       "\t51 & 142940707  & 58.21453   & 33.591902  & 20.43897   & 0.77767869 & -0.4947678 & 45.51297   & 12.5275   \\\\\n",
       "\t52 & 178300199  & 58.91860   & 35.807519  & 21.20740   & 0.89648475 & -0.5875516 & 48.79545   & 12.5725   \\\\\n",
       "\t53 & 122318448  & 59.27830   & 39.222683  & 22.10816   & 0.94120380 & -0.6873341 & 42.41155   & 12.6125   \\\\\n",
       "\t54 & 171861921  & 59.64955   & 41.078769  & 23.05669   & 1.05459990 & -0.8319319 & 47.82387   & 12.6460   \\\\\n",
       "\t55 & 141322034  & 61.61729   & 45.908874  & 24.19930   & 1.03012869 & -0.9855984 & 44.89932   & 12.6775   \\\\\n",
       "\t56 & 112838579  & 60.73205   & 43.921829  & 25.18543   & 0.94992789 & -1.1174056 & 41.61834   & 12.7095   \\\\\n",
       "\t57 & 216414128  & 61.59130   & 45.674063  & 26.20986   & 0.99289558 & -1.2707927 & 53.66339   & 12.7610   \\\\\n",
       "\t58 & 233172905  & 62.44672   & 50.054708  & 27.40210   & 0.98752248 & -1.4091894 & 55.52323   & 12.8435   \\\\\n",
       "\t59 & 237348986  & 62.44672   & 40.141958  & 28.03909   & 0.81340993 & -1.4741276 & 56.98375   & 12.9050   \\\\\n",
       "\t60 & 181498436  & 59.67319   & 32.320853  & 28.25318   & 0.74288780 & -1.4979227 & 49.86277   & 12.9525   \\\\\n",
       "\t61 & 150204215  & 55.01246   & 32.553922  & 28.46822   & 0.72603808 & -1.4730037 & 47.00945   & 13.0060   \\\\\n",
       "\t62 & 125552420  & 51.88986   & 29.273621  & 28.50849   & 0.72194574 & -1.4335977 & 44.16760   & 13.0585   \\\\\n",
       "\t63 & 146093311  & 49.52270   & 29.273621  & 28.54675   & 0.77643345 & -1.4009556 & 47.25447   & 13.1035   \\\\\n",
       "\t64 & 119275478  & 50.25976   & 32.195273  & 28.72917   & 0.75650262 & -1.3637677 & 43.74040   & 13.1505   \\\\\n",
       "\t65 &  88935952  & 50.25976   & 29.132481  & 28.74934   & 0.71447262 & -1.3298680 & 39.67588   & 13.1985   \\\\\n",
       "\t66 & 103410895  & 51.12364   & 33.204989  & 28.97212   & 0.66058953 & -1.2722054 & 41.46297   & 13.2390   \\\\\n",
       "\t67 &  88186308  & 49.73797   & 25.606896  & 28.80386   & 0.63583174 & -1.2125849 & 38.58570   & 13.2700   \\\\\n",
       "\t68 & 137433604  & 48.65821   & 23.627448  & 28.54504   & 0.48786634 & -1.1169789 & 47.24543   & 13.3000   \\\\\n",
       "\t69 & 165983783  & 48.65821   & 12.862214  & 27.76090   & 0.28057128 & -0.9955882 & 52.16138   & 13.3155   \\\\\n",
       "\t70 & 180029703  & 48.16171   &  7.303013  & 26.73800   & 0.07376652 & -0.8230026 & 54.85358   & 13.3200   \\\\\n",
       "\\end{tabular}\n"
      ],
      "text/markdown": [
       "\n",
       "| <!--/--> | Volume | +dirInd | dirind | ADX | pctB | MACDsignal | RSI | SMA | \n",
       "|---|---|---|---|---|---|---|---|---|---|---|---|---|---|---|---|---|---|---|---|\n",
       "| 51 | 142940707  | 58.21453   | 33.591902  | 20.43897   | 0.77767869 | -0.4947678 | 45.51297   | 12.5275    | \n",
       "| 52 | 178300199  | 58.91860   | 35.807519  | 21.20740   | 0.89648475 | -0.5875516 | 48.79545   | 12.5725    | \n",
       "| 53 | 122318448  | 59.27830   | 39.222683  | 22.10816   | 0.94120380 | -0.6873341 | 42.41155   | 12.6125    | \n",
       "| 54 | 171861921  | 59.64955   | 41.078769  | 23.05669   | 1.05459990 | -0.8319319 | 47.82387   | 12.6460    | \n",
       "| 55 | 141322034  | 61.61729   | 45.908874  | 24.19930   | 1.03012869 | -0.9855984 | 44.89932   | 12.6775    | \n",
       "| 56 | 112838579  | 60.73205   | 43.921829  | 25.18543   | 0.94992789 | -1.1174056 | 41.61834   | 12.7095    | \n",
       "| 57 | 216414128  | 61.59130   | 45.674063  | 26.20986   | 0.99289558 | -1.2707927 | 53.66339   | 12.7610    | \n",
       "| 58 | 233172905  | 62.44672   | 50.054708  | 27.40210   | 0.98752248 | -1.4091894 | 55.52323   | 12.8435    | \n",
       "| 59 | 237348986  | 62.44672   | 40.141958  | 28.03909   | 0.81340993 | -1.4741276 | 56.98375   | 12.9050    | \n",
       "| 60 | 181498436  | 59.67319   | 32.320853  | 28.25318   | 0.74288780 | -1.4979227 | 49.86277   | 12.9525    | \n",
       "| 61 | 150204215  | 55.01246   | 32.553922  | 28.46822   | 0.72603808 | -1.4730037 | 47.00945   | 13.0060    | \n",
       "| 62 | 125552420  | 51.88986   | 29.273621  | 28.50849   | 0.72194574 | -1.4335977 | 44.16760   | 13.0585    | \n",
       "| 63 | 146093311  | 49.52270   | 29.273621  | 28.54675   | 0.77643345 | -1.4009556 | 47.25447   | 13.1035    | \n",
       "| 64 | 119275478  | 50.25976   | 32.195273  | 28.72917   | 0.75650262 | -1.3637677 | 43.74040   | 13.1505    | \n",
       "| 65 |  88935952  | 50.25976   | 29.132481  | 28.74934   | 0.71447262 | -1.3298680 | 39.67588   | 13.1985    | \n",
       "| 66 | 103410895  | 51.12364   | 33.204989  | 28.97212   | 0.66058953 | -1.2722054 | 41.46297   | 13.2390    | \n",
       "| 67 |  88186308  | 49.73797   | 25.606896  | 28.80386   | 0.63583174 | -1.2125849 | 38.58570   | 13.2700    | \n",
       "| 68 | 137433604  | 48.65821   | 23.627448  | 28.54504   | 0.48786634 | -1.1169789 | 47.24543   | 13.3000    | \n",
       "| 69 | 165983783  | 48.65821   | 12.862214  | 27.76090   | 0.28057128 | -0.9955882 | 52.16138   | 13.3155    | \n",
       "| 70 | 180029703  | 48.16171   |  7.303013  | 26.73800   | 0.07376652 | -0.8230026 | 54.85358   | 13.3200    | \n",
       "\n",
       "\n"
      ],
      "text/plain": [
       "   Volume    +dirInd  dirind    ADX      pctB       MACDsignal RSI      SMA    \n",
       "51 142940707 58.21453 33.591902 20.43897 0.77767869 -0.4947678 45.51297 12.5275\n",
       "52 178300199 58.91860 35.807519 21.20740 0.89648475 -0.5875516 48.79545 12.5725\n",
       "53 122318448 59.27830 39.222683 22.10816 0.94120380 -0.6873341 42.41155 12.6125\n",
       "54 171861921 59.64955 41.078769 23.05669 1.05459990 -0.8319319 47.82387 12.6460\n",
       "55 141322034 61.61729 45.908874 24.19930 1.03012869 -0.9855984 44.89932 12.6775\n",
       "56 112838579 60.73205 43.921829 25.18543 0.94992789 -1.1174056 41.61834 12.7095\n",
       "57 216414128 61.59130 45.674063 26.20986 0.99289558 -1.2707927 53.66339 12.7610\n",
       "58 233172905 62.44672 50.054708 27.40210 0.98752248 -1.4091894 55.52323 12.8435\n",
       "59 237348986 62.44672 40.141958 28.03909 0.81340993 -1.4741276 56.98375 12.9050\n",
       "60 181498436 59.67319 32.320853 28.25318 0.74288780 -1.4979227 49.86277 12.9525\n",
       "61 150204215 55.01246 32.553922 28.46822 0.72603808 -1.4730037 47.00945 13.0060\n",
       "62 125552420 51.88986 29.273621 28.50849 0.72194574 -1.4335977 44.16760 13.0585\n",
       "63 146093311 49.52270 29.273621 28.54675 0.77643345 -1.4009556 47.25447 13.1035\n",
       "64 119275478 50.25976 32.195273 28.72917 0.75650262 -1.3637677 43.74040 13.1505\n",
       "65  88935952 50.25976 29.132481 28.74934 0.71447262 -1.3298680 39.67588 13.1985\n",
       "66 103410895 51.12364 33.204989 28.97212 0.66058953 -1.2722054 41.46297 13.2390\n",
       "67  88186308 49.73797 25.606896 28.80386 0.63583174 -1.2125849 38.58570 13.2700\n",
       "68 137433604 48.65821 23.627448 28.54504 0.48786634 -1.1169789 47.24543 13.3000\n",
       "69 165983783 48.65821 12.862214 27.76090 0.28057128 -0.9955882 52.16138 13.3155\n",
       "70 180029703 48.16171  7.303013 26.73800 0.07376652 -0.8230026 54.85358 13.3200"
      ]
     },
     "metadata": {},
     "output_type": "display_data"
    }
   ],
   "source": [
    "head(cdadoLimpo,20)"
   ]
  },
  {
   "cell_type": "markdown",
   "metadata": {},
   "source": [
    "<h3>Adicionado o tempo de volta, após pré-processamento</h3>"
   ]
  },
  {
   "cell_type": "code",
   "execution_count": 75,
   "metadata": {
    "collapsed": true
   },
   "outputs": [],
   "source": [
    "\n",
    "#adicionando o tempo de volta aos dados\n",
    "ctdadoLimpo<-data.frame(date = index(AAPL[51:2665,]),AAPL[51:2665,4],cdadoLimpo[1:2615,], row.names=NULL)\n",
    "\n",
    "#renomeando as colunas\n",
    "colnames(ctdadoLimpo)<-c(\"Date\",\"ClosePrice\",names(cdadoLimpo))\n"
   ]
  },
  {
   "cell_type": "code",
   "execution_count": 77,
   "metadata": {},
   "outputs": [
    {
     "data": {
      "text/html": [
       "<table>\n",
       "<thead><tr><th scope=col>Date</th><th scope=col>ClosePrice</th><th scope=col>Volume</th><th scope=col>+dirInd</th><th scope=col>dirind</th><th scope=col>ADX</th><th scope=col>pctB</th><th scope=col>MACDsignal</th><th scope=col>RSI</th><th scope=col>SMA</th></tr></thead>\n",
       "<tbody>\n",
       "\t<tr><td>2007-03-16</td><td>12.80     </td><td>142940707 </td><td>58.21453  </td><td>33.591902 </td><td>20.43897  </td><td>0.77767869</td><td>-0.4947678</td><td>45.51297  </td><td>12.5275   </td></tr>\n",
       "\t<tr><td>2007-03-19</td><td>13.02     </td><td>178300199 </td><td>58.91860  </td><td>35.807519 </td><td>21.20740  </td><td>0.89648475</td><td>-0.5875516</td><td>48.79545  </td><td>12.5725   </td></tr>\n",
       "\t<tr><td>2007-03-20</td><td>13.07     </td><td>122318448 </td><td>59.27830  </td><td>39.222683 </td><td>22.10816  </td><td>0.94120380</td><td>-0.6873341</td><td>42.41155  </td><td>12.6125   </td></tr>\n",
       "\t<tr><td>2007-03-21</td><td>13.41     </td><td>171861921 </td><td>59.64955  </td><td>41.078769 </td><td>23.05669  </td><td>1.05459990</td><td>-0.8319319</td><td>47.82387  </td><td>12.6460   </td></tr>\n",
       "\t<tr><td>2007-03-22</td><td>13.42     </td><td>141322034 </td><td>61.61729  </td><td>45.908874 </td><td>24.19930  </td><td>1.03012869</td><td>-0.9855984</td><td>44.89932  </td><td>12.6775   </td></tr>\n",
       "\t<tr><td>2007-03-23</td><td>13.36     </td><td>112838579 </td><td>60.73205  </td><td>43.921829 </td><td>25.18543  </td><td>0.94992789</td><td>-1.1174056</td><td>41.61834  </td><td>12.7095   </td></tr>\n",
       "\t<tr><td>2007-03-26</td><td>13.69     </td><td>216414128 </td><td>61.59130  </td><td>45.674063 </td><td>26.20986  </td><td>0.99289558</td><td>-1.2707927</td><td>53.66339  </td><td>12.7610   </td></tr>\n",
       "\t<tr><td>2007-03-27</td><td>13.64     </td><td>233172905 </td><td>62.44672  </td><td>50.054708 </td><td>27.40210  </td><td>0.98752248</td><td>-1.4091894</td><td>55.52323  </td><td>12.8435   </td></tr>\n",
       "\t<tr><td>2007-03-28</td><td>13.32     </td><td>237348986 </td><td>62.44672  </td><td>40.141958 </td><td>28.03909  </td><td>0.81340993</td><td>-1.4741276</td><td>56.98375  </td><td>12.9050   </td></tr>\n",
       "\t<tr><td>2007-03-29</td><td>13.39     </td><td>181498436 </td><td>59.67319  </td><td>32.320853 </td><td>28.25318  </td><td>0.74288780</td><td>-1.4979227</td><td>49.86277  </td><td>12.9525   </td></tr>\n",
       "\t<tr><td>2007-03-30</td><td>13.27     </td><td>150204215 </td><td>55.01246  </td><td>32.553922 </td><td>28.46822  </td><td>0.72603808</td><td>-1.4730037</td><td>47.00945  </td><td>13.0060   </td></tr>\n",
       "\t<tr><td>2007-04-02</td><td>13.38     </td><td>125552420 </td><td>51.88986  </td><td>29.273621 </td><td>28.50849  </td><td>0.72194574</td><td>-1.4335977</td><td>44.16760  </td><td>13.0585   </td></tr>\n",
       "\t<tr><td>2007-04-03</td><td>13.50     </td><td>146093311 </td><td>49.52270  </td><td>29.273621 </td><td>28.54675  </td><td>0.77643345</td><td>-1.4009556</td><td>47.25447  </td><td>13.1035   </td></tr>\n",
       "\t<tr><td>2007-04-04</td><td>13.47     </td><td>119275478 </td><td>50.25976  </td><td>32.195273 </td><td>28.72917  </td><td>0.75650262</td><td>-1.3637677</td><td>43.74040  </td><td>13.1505   </td></tr>\n",
       "\t<tr><td>2007-04-05</td><td>13.53     </td><td> 88935952 </td><td>50.25976  </td><td>29.132481 </td><td>28.74934  </td><td>0.71447262</td><td>-1.3298680</td><td>39.67588  </td><td>13.1985   </td></tr>\n",
       "\t<tr><td>2007-04-09</td><td>13.38     </td><td>103410895 </td><td>51.12364  </td><td>33.204989 </td><td>28.97212  </td><td>0.66058953</td><td>-1.2722054</td><td>41.46297  </td><td>13.2390   </td></tr>\n",
       "\t<tr><td>2007-04-10</td><td>13.46     </td><td> 88186308 </td><td>49.73797  </td><td>25.606896 </td><td>28.80386  </td><td>0.63583174</td><td>-1.2125849</td><td>38.58570  </td><td>13.2700   </td></tr>\n",
       "\t<tr><td>2007-04-11</td><td>13.23     </td><td>137433604 </td><td>48.65821  </td><td>23.627448 </td><td>28.54504  </td><td>0.48786634</td><td>-1.1169789</td><td>47.24543  </td><td>13.3000   </td></tr>\n",
       "\t<tr><td>2007-04-12</td><td>13.17     </td><td>165983783 </td><td>48.65821  </td><td>12.862214 </td><td>27.76090  </td><td>0.28057128</td><td>-0.9955882</td><td>52.16138  </td><td>13.3155   </td></tr>\n",
       "\t<tr><td>2007-04-13</td><td>12.89     </td><td>180029703 </td><td>48.16171  </td><td> 7.303013 </td><td>26.73800  </td><td>0.07376652</td><td>-0.8230026</td><td>54.85358  </td><td>13.3200   </td></tr>\n",
       "</tbody>\n",
       "</table>\n"
      ],
      "text/latex": [
       "\\begin{tabular}{r|llllllllll}\n",
       " Date & ClosePrice & Volume & +dirInd & dirind & ADX & pctB & MACDsignal & RSI & SMA\\\\\n",
       "\\hline\n",
       "\t 2007-03-16 & 12.80      & 142940707  & 58.21453   & 33.591902  & 20.43897   & 0.77767869 & -0.4947678 & 45.51297   & 12.5275   \\\\\n",
       "\t 2007-03-19 & 13.02      & 178300199  & 58.91860   & 35.807519  & 21.20740   & 0.89648475 & -0.5875516 & 48.79545   & 12.5725   \\\\\n",
       "\t 2007-03-20 & 13.07      & 122318448  & 59.27830   & 39.222683  & 22.10816   & 0.94120380 & -0.6873341 & 42.41155   & 12.6125   \\\\\n",
       "\t 2007-03-21 & 13.41      & 171861921  & 59.64955   & 41.078769  & 23.05669   & 1.05459990 & -0.8319319 & 47.82387   & 12.6460   \\\\\n",
       "\t 2007-03-22 & 13.42      & 141322034  & 61.61729   & 45.908874  & 24.19930   & 1.03012869 & -0.9855984 & 44.89932   & 12.6775   \\\\\n",
       "\t 2007-03-23 & 13.36      & 112838579  & 60.73205   & 43.921829  & 25.18543   & 0.94992789 & -1.1174056 & 41.61834   & 12.7095   \\\\\n",
       "\t 2007-03-26 & 13.69      & 216414128  & 61.59130   & 45.674063  & 26.20986   & 0.99289558 & -1.2707927 & 53.66339   & 12.7610   \\\\\n",
       "\t 2007-03-27 & 13.64      & 233172905  & 62.44672   & 50.054708  & 27.40210   & 0.98752248 & -1.4091894 & 55.52323   & 12.8435   \\\\\n",
       "\t 2007-03-28 & 13.32      & 237348986  & 62.44672   & 40.141958  & 28.03909   & 0.81340993 & -1.4741276 & 56.98375   & 12.9050   \\\\\n",
       "\t 2007-03-29 & 13.39      & 181498436  & 59.67319   & 32.320853  & 28.25318   & 0.74288780 & -1.4979227 & 49.86277   & 12.9525   \\\\\n",
       "\t 2007-03-30 & 13.27      & 150204215  & 55.01246   & 32.553922  & 28.46822   & 0.72603808 & -1.4730037 & 47.00945   & 13.0060   \\\\\n",
       "\t 2007-04-02 & 13.38      & 125552420  & 51.88986   & 29.273621  & 28.50849   & 0.72194574 & -1.4335977 & 44.16760   & 13.0585   \\\\\n",
       "\t 2007-04-03 & 13.50      & 146093311  & 49.52270   & 29.273621  & 28.54675   & 0.77643345 & -1.4009556 & 47.25447   & 13.1035   \\\\\n",
       "\t 2007-04-04 & 13.47      & 119275478  & 50.25976   & 32.195273  & 28.72917   & 0.75650262 & -1.3637677 & 43.74040   & 13.1505   \\\\\n",
       "\t 2007-04-05 & 13.53      &  88935952  & 50.25976   & 29.132481  & 28.74934   & 0.71447262 & -1.3298680 & 39.67588   & 13.1985   \\\\\n",
       "\t 2007-04-09 & 13.38      & 103410895  & 51.12364   & 33.204989  & 28.97212   & 0.66058953 & -1.2722054 & 41.46297   & 13.2390   \\\\\n",
       "\t 2007-04-10 & 13.46      &  88186308  & 49.73797   & 25.606896  & 28.80386   & 0.63583174 & -1.2125849 & 38.58570   & 13.2700   \\\\\n",
       "\t 2007-04-11 & 13.23      & 137433604  & 48.65821   & 23.627448  & 28.54504   & 0.48786634 & -1.1169789 & 47.24543   & 13.3000   \\\\\n",
       "\t 2007-04-12 & 13.17      & 165983783  & 48.65821   & 12.862214  & 27.76090   & 0.28057128 & -0.9955882 & 52.16138   & 13.3155   \\\\\n",
       "\t 2007-04-13 & 12.89      & 180029703  & 48.16171   &  7.303013  & 26.73800   & 0.07376652 & -0.8230026 & 54.85358   & 13.3200   \\\\\n",
       "\\end{tabular}\n"
      ],
      "text/markdown": [
       "\n",
       "Date | ClosePrice | Volume | +dirInd | dirind | ADX | pctB | MACDsignal | RSI | SMA | \n",
       "|---|---|---|---|---|---|---|---|---|---|---|---|---|---|---|---|---|---|---|---|\n",
       "| 2007-03-16 | 12.80      | 142940707  | 58.21453   | 33.591902  | 20.43897   | 0.77767869 | -0.4947678 | 45.51297   | 12.5275    | \n",
       "| 2007-03-19 | 13.02      | 178300199  | 58.91860   | 35.807519  | 21.20740   | 0.89648475 | -0.5875516 | 48.79545   | 12.5725    | \n",
       "| 2007-03-20 | 13.07      | 122318448  | 59.27830   | 39.222683  | 22.10816   | 0.94120380 | -0.6873341 | 42.41155   | 12.6125    | \n",
       "| 2007-03-21 | 13.41      | 171861921  | 59.64955   | 41.078769  | 23.05669   | 1.05459990 | -0.8319319 | 47.82387   | 12.6460    | \n",
       "| 2007-03-22 | 13.42      | 141322034  | 61.61729   | 45.908874  | 24.19930   | 1.03012869 | -0.9855984 | 44.89932   | 12.6775    | \n",
       "| 2007-03-23 | 13.36      | 112838579  | 60.73205   | 43.921829  | 25.18543   | 0.94992789 | -1.1174056 | 41.61834   | 12.7095    | \n",
       "| 2007-03-26 | 13.69      | 216414128  | 61.59130   | 45.674063  | 26.20986   | 0.99289558 | -1.2707927 | 53.66339   | 12.7610    | \n",
       "| 2007-03-27 | 13.64      | 233172905  | 62.44672   | 50.054708  | 27.40210   | 0.98752248 | -1.4091894 | 55.52323   | 12.8435    | \n",
       "| 2007-03-28 | 13.32      | 237348986  | 62.44672   | 40.141958  | 28.03909   | 0.81340993 | -1.4741276 | 56.98375   | 12.9050    | \n",
       "| 2007-03-29 | 13.39      | 181498436  | 59.67319   | 32.320853  | 28.25318   | 0.74288780 | -1.4979227 | 49.86277   | 12.9525    | \n",
       "| 2007-03-30 | 13.27      | 150204215  | 55.01246   | 32.553922  | 28.46822   | 0.72603808 | -1.4730037 | 47.00945   | 13.0060    | \n",
       "| 2007-04-02 | 13.38      | 125552420  | 51.88986   | 29.273621  | 28.50849   | 0.72194574 | -1.4335977 | 44.16760   | 13.0585    | \n",
       "| 2007-04-03 | 13.50      | 146093311  | 49.52270   | 29.273621  | 28.54675   | 0.77643345 | -1.4009556 | 47.25447   | 13.1035    | \n",
       "| 2007-04-04 | 13.47      | 119275478  | 50.25976   | 32.195273  | 28.72917   | 0.75650262 | -1.3637677 | 43.74040   | 13.1505    | \n",
       "| 2007-04-05 | 13.53      |  88935952  | 50.25976   | 29.132481  | 28.74934   | 0.71447262 | -1.3298680 | 39.67588   | 13.1985    | \n",
       "| 2007-04-09 | 13.38      | 103410895  | 51.12364   | 33.204989  | 28.97212   | 0.66058953 | -1.2722054 | 41.46297   | 13.2390    | \n",
       "| 2007-04-10 | 13.46      |  88186308  | 49.73797   | 25.606896  | 28.80386   | 0.63583174 | -1.2125849 | 38.58570   | 13.2700    | \n",
       "| 2007-04-11 | 13.23      | 137433604  | 48.65821   | 23.627448  | 28.54504   | 0.48786634 | -1.1169789 | 47.24543   | 13.3000    | \n",
       "| 2007-04-12 | 13.17      | 165983783  | 48.65821   | 12.862214  | 27.76090   | 0.28057128 | -0.9955882 | 52.16138   | 13.3155    | \n",
       "| 2007-04-13 | 12.89      | 180029703  | 48.16171   |  7.303013  | 26.73800   | 0.07376652 | -0.8230026 | 54.85358   | 13.3200    | \n",
       "\n",
       "\n"
      ],
      "text/plain": [
       "   Date       ClosePrice Volume    +dirInd  dirind    ADX      pctB      \n",
       "1  2007-03-16 12.80      142940707 58.21453 33.591902 20.43897 0.77767869\n",
       "2  2007-03-19 13.02      178300199 58.91860 35.807519 21.20740 0.89648475\n",
       "3  2007-03-20 13.07      122318448 59.27830 39.222683 22.10816 0.94120380\n",
       "4  2007-03-21 13.41      171861921 59.64955 41.078769 23.05669 1.05459990\n",
       "5  2007-03-22 13.42      141322034 61.61729 45.908874 24.19930 1.03012869\n",
       "6  2007-03-23 13.36      112838579 60.73205 43.921829 25.18543 0.94992789\n",
       "7  2007-03-26 13.69      216414128 61.59130 45.674063 26.20986 0.99289558\n",
       "8  2007-03-27 13.64      233172905 62.44672 50.054708 27.40210 0.98752248\n",
       "9  2007-03-28 13.32      237348986 62.44672 40.141958 28.03909 0.81340993\n",
       "10 2007-03-29 13.39      181498436 59.67319 32.320853 28.25318 0.74288780\n",
       "11 2007-03-30 13.27      150204215 55.01246 32.553922 28.46822 0.72603808\n",
       "12 2007-04-02 13.38      125552420 51.88986 29.273621 28.50849 0.72194574\n",
       "13 2007-04-03 13.50      146093311 49.52270 29.273621 28.54675 0.77643345\n",
       "14 2007-04-04 13.47      119275478 50.25976 32.195273 28.72917 0.75650262\n",
       "15 2007-04-05 13.53       88935952 50.25976 29.132481 28.74934 0.71447262\n",
       "16 2007-04-09 13.38      103410895 51.12364 33.204989 28.97212 0.66058953\n",
       "17 2007-04-10 13.46       88186308 49.73797 25.606896 28.80386 0.63583174\n",
       "18 2007-04-11 13.23      137433604 48.65821 23.627448 28.54504 0.48786634\n",
       "19 2007-04-12 13.17      165983783 48.65821 12.862214 27.76090 0.28057128\n",
       "20 2007-04-13 12.89      180029703 48.16171  7.303013 26.73800 0.07376652\n",
       "   MACDsignal RSI      SMA    \n",
       "1  -0.4947678 45.51297 12.5275\n",
       "2  -0.5875516 48.79545 12.5725\n",
       "3  -0.6873341 42.41155 12.6125\n",
       "4  -0.8319319 47.82387 12.6460\n",
       "5  -0.9855984 44.89932 12.6775\n",
       "6  -1.1174056 41.61834 12.7095\n",
       "7  -1.2707927 53.66339 12.7610\n",
       "8  -1.4091894 55.52323 12.8435\n",
       "9  -1.4741276 56.98375 12.9050\n",
       "10 -1.4979227 49.86277 12.9525\n",
       "11 -1.4730037 47.00945 13.0060\n",
       "12 -1.4335977 44.16760 13.0585\n",
       "13 -1.4009556 47.25447 13.1035\n",
       "14 -1.3637677 43.74040 13.1505\n",
       "15 -1.3298680 39.67588 13.1985\n",
       "16 -1.2722054 41.46297 13.2390\n",
       "17 -1.2125849 38.58570 13.2700\n",
       "18 -1.1169789 47.24543 13.3000\n",
       "19 -0.9955882 52.16138 13.3155\n",
       "20 -0.8230026 54.85358 13.3200"
      ]
     },
     "metadata": {},
     "output_type": "display_data"
    }
   ],
   "source": [
    "head(ctdadoLimpo,20)\n"
   ]
  },
  {
   "cell_type": "markdown",
   "metadata": {
    "collapsed": true
   },
   "source": [
    "<h2>Análise Exploratória</h2>"
   ]
  },
  {
   "cell_type": "markdown",
   "metadata": {},
   "source": [
    "Conjunto de dados sequenciais: série temporal\n",
    "Atributos quantitativos.\n",
    "\n",
    "Técnicas :\n",
    "<ul>\n",
    "<li>Histograma</li>\n",
    "<li>Correlação dos Dados</li>\n",
    "<li>Dispersão</li>\n",
    "</ul>"
   ]
  },
  {
   "cell_type": "markdown",
   "metadata": {},
   "source": [
    "<h3>Comportamento dos 20 primeiros meses da ação</h3>"
   ]
  },
  {
   "cell_type": "code",
   "execution_count": 36,
   "metadata": {},
   "outputs": [
    {
     "data": {},
     "metadata": {},
     "output_type": "display_data"
    },
    {
     "data": {
      "image/png": "[encoded data removed]",
      "text/plain": [
       "Plot with title \"[2007-01-03/2008-08-29]\""
      ]
     },
     "metadata": {},
     "output_type": "display_data"
    },
    {
     "data": {
      "image/png": "[encoded data removed]",
      "text/plain": [
       "Plot with title \"[2007-01-03/2008-08-29]\""
      ]
     },
     "metadata": {},
     "output_type": "display_data"
    }
   ],
   "source": [
    "chartSeries(AAPL,theme = chartTheme(\"white\"),subset = \"first 20 months\") \n",
    "addRSI(n=20)\n"
   ]
  },
  {
   "cell_type": "markdown",
   "metadata": {},
   "source": [
    "<h3>Sumário dos Dados</h3>"
   ]
  },
  {
   "cell_type": "code",
   "execution_count": 32,
   "metadata": {},
   "outputs": [
    {
     "data": {
      "text/plain": [
       "      Date        OpenPrice        HighPrice         LowPrice     \n",
       " Min.   :   1   Min.   : 11.34   Min.   : 11.71   Min.   : 11.17  \n",
       " 1st Qu.: 671   1st Qu.: 26.84   1st Qu.: 27.13   1st Qu.: 26.43  \n",
       " Median :1341   Median : 62.57   Median : 63.38   Median : 61.90  \n",
       " Mean   :1341   Mean   : 66.53   Mean   : 67.14   Mean   : 65.87  \n",
       " 3rd Qu.:2011   3rd Qu.: 99.02   3rd Qu.:100.13   3rd Qu.: 98.31  \n",
       " Max.   :2681   Max.   :161.94   Max.   :162.51   Max.   :160.15  \n",
       "                                                                  \n",
       "   ClosePrice         Volume             +dirInd         -dirInd      \n",
       " Min.   : 11.17   Min.   : 11475922   Min.   :28.00   Min.   : 8.603  \n",
       " 1st Qu.: 26.78   1st Qu.: 53002026   1st Qu.:49.20   1st Qu.:25.037  \n",
       " Median : 62.70   Median :100869587   Median :55.08   Median :33.593  \n",
       " Mean   : 66.52   Mean   :126639404   Mean   :54.46   Mean   :35.389  \n",
       " 3rd Qu.: 99.18   3rd Qu.:168776993   3rd Qu.:59.79   3rd Qu.:43.647  \n",
       " Max.   :161.60   Max.   :843264044   Max.   :76.65   Max.   :84.665  \n",
       "                                      NA's   :20      NA's   :20      \n",
       "     dirind              ADX              dnBB            MaAvg       \n",
       " Min.   : 0.00728   Min.   : 7.007   Min.   : 11.22   Min.   : 12.19  \n",
       " 1st Qu.:12.62423   1st Qu.:18.364   1st Qu.: 25.36   1st Qu.: 26.52  \n",
       " Median :25.03578   Median :25.030   Median : 59.03   Median : 62.96  \n",
       " Mean   :26.80542   Mean   :26.833   Mean   : 62.80   Mean   : 66.37  \n",
       " 3rd Qu.:39.77180   3rd Qu.:34.890   3rd Qu.: 93.52   3rd Qu.: 99.03  \n",
       " Max.   :74.86519   Max.   :56.902   Max.   :151.78   Max.   :157.77  \n",
       " NA's   :20         NA's   :39       NA's   :19       NA's   :19      \n",
       "      UpBB             pctB              EMA              MACD        \n",
       " Min.   : 12.42   Min.   :-0.4060   Min.   : 12.30   Min.   :-4.2657  \n",
       " 1st Qu.: 28.75   1st Qu.: 0.3108   1st Qu.: 26.31   1st Qu.:-1.4364  \n",
       " Median : 66.52   Median : 0.6407   Median : 62.89   Median :-0.4730  \n",
       " Mean   : 69.95   Mean   : 0.5866   Mean   : 66.39   Mean   :-0.3471  \n",
       " 3rd Qu.:102.92   3rd Qu.: 0.8611   3rd Qu.: 99.36   3rd Qu.: 0.4667  \n",
       " Max.   :164.53   Max.   : 1.3560   Max.   :157.37   Max.   :12.0785  \n",
       " NA's   :19       NA's   :19        NA's   :19       NA's   :19       \n",
       "   MACDsignal           RSI             SMA              OBV            \n",
       " Min.   :-4.0161   Min.   :31.74   Min.   : 12.18   Min.   :-5.604e+08  \n",
       " 1st Qu.:-1.3937   1st Qu.:44.93   1st Qu.: 26.53   1st Qu.: 5.656e+09  \n",
       " Median :-0.4831   Median :48.25   Median : 62.92   Median : 8.602e+09  \n",
       " Mean   :-0.3488   Mean   :49.52   Mean   : 66.38   Mean   : 7.470e+09  \n",
       " 3rd Qu.: 0.4043   3rd Qu.:52.80   3rd Qu.: 99.06   3rd Qu.: 9.358e+09  \n",
       " Max.   :10.8436   Max.   :88.62   Max.   :157.72   Max.   : 1.234e+10  \n",
       " NA's   :24        NA's   :20      NA's   :19                           "
      ]
     },
     "metadata": {},
     "output_type": "display_data"
    }
   ],
   "source": [
    "summary(AAPLBD)"
   ]
  },
  {
   "cell_type": "markdown",
   "metadata": {},
   "source": [
    "<h3>Histograma da Distribuição dos Preços de Fechamento</h3>"
   ]
  },
  {
   "cell_type": "code",
   "execution_count": 35,
   "metadata": {},
   "outputs": [
    {
     "data": {
      "image/png": "[encoded data removed]",
      "text/plain": [
       "Plot with title \"Histograma da Frequência do Preço de Fechamento\""
      ]
     },
     "metadata": {},
     "output_type": "display_data"
    }
   ],
   "source": [
    "hist(AAPLBD[,\"ClosePrice\"],main=\"Histograma da Frequência do Preço de Fechamento\",ylab=\"Preço de Fechamento\",xlab=\"Frequência\")\n"
   ]
  },
  {
   "cell_type": "markdown",
   "metadata": {},
   "source": [
    "<h3>Gráfico de Dispersão</h3>"
   ]
  },
  {
   "cell_type": "code",
   "execution_count": 39,
   "metadata": {},
   "outputs": [
    {
     "data": {},
     "metadata": {},
     "output_type": "display_data"
    },
    {
     "data": {
      "image/png": "[encoded data removed]",
      "text/plain": [
       "plot without title"
      ]
     },
     "metadata": {},
     "output_type": "display_data"
    }
   ],
   "source": [
    "\n",
    "ggplot(AAPLBD[1:100,],aes(Date,ClosePrice)) + xlab(\"Período\")+ylab(\"Preços\")+\n",
    "  geom_point(aes(color=\"Valor Fechamento\"),shape=\"+\",size=5) +\n",
    "  geom_point(data=AAPLBD[1:100,],aes(Date,HighPrice,color=\"Maior Valor\"),size=3,shape=20)+\n",
    "  geom_point(data=AAPLBD[1:100,],aes(Date,LowPrice,color=\"Menor Valor\"),size=3,shape=20)+\n",
    "  labs(color=\"Legenda\") +\n",
    "  scale_colour_manual(\"\", breaks = c(\"Maior Valor\", \"Menor Valor\",\"Valor Fechamento\"),\n",
    "                      values = c(\"Blue\", \"Red\",\"Black\")) +\n",
    "  ggtitle(\"Variação Diária Valores da Ação AAPL\") + \n",
    "  theme(plot.title = element_text(lineheight=.7, face=\"bold\"))\n",
    "\n"
   ]
  },
  {
   "cell_type": "markdown",
   "metadata": {
    "collapsed": true
   },
   "source": [
    "<h3>Correlação dos Dados</h3>"
   ]
  },
  {
   "cell_type": "code",
   "execution_count": 65,
   "metadata": {},
   "outputs": [
    {
     "data": {
      "image/png": "[encoded data removed]",
      "text/plain": [
       "Plot with title \"\""
      ]
     },
     "metadata": {},
     "output_type": "display_data"
    }
   ],
   "source": [
    "corrplot(correlacoes, order = \"hclust\")  "
   ]
  },
  {
   "cell_type": "markdown",
   "metadata": {},
   "source": [
    "<h3>Correlação após redução de dimensionalidade</h3>"
   ]
  },
  {
   "cell_type": "code",
   "execution_count": 68,
   "metadata": {},
   "outputs": [
    {
     "data": {
      "image/png": "[encoded data removed]",
      "text/plain": [
       "Plot with title \"\""
      ]
     },
     "metadata": {},
     "output_type": "display_data"
    }
   ],
   "source": [
    "corrplot(cmLimpa, order = \"hclust\")"
   ]
  },
  {
   "cell_type": "markdown",
   "metadata": {
    "collapsed": true
   },
   "source": [
    "<h2>Processo de Mineração</h2>"
   ]
  },
  {
   "cell_type": "markdown",
   "metadata": {},
   "source": [
    "Para demonstração das funções de mineração utilizadas, será necessário recuperar informações armazenadosmo GitHub, no enderço atribuído à variável data_url."
   ]
  },
  {
   "cell_type": "code",
   "execution_count": 84,
   "metadata": {},
   "outputs": [],
   "source": [
    "con <- url(\"https://github.com/leonardosminfo/stock/raw/master/Fonte.RData\")\n",
    "load(con)"
   ]
  },
  {
   "cell_type": "markdown",
   "metadata": {},
   "source": [
    "Conjunto de Treino e Teste – 70/30 %\n"
   ]
  },
  {
   "cell_type": "markdown",
   "metadata": {},
   "source": [
    "Foi realizada a função de regressão método <i><b>Cubist</b></i>, para os 1775 itens do Dataset, utilizando uma janela deslizante de tamanho fixo (241), com horizonte 20."
   ]
  },
  {
   "cell_type": "code",
   "execution_count": 88,
   "metadata": {},
   "outputs": [
    {
     "data": {
      "text/plain": [
       "Cubist \n",
       "\n",
       "1775 samples\n",
       "   9 predictor\n",
       "\n",
       "No pre-processing\n",
       "Resampling: Rolling Forecasting Origin Resampling (20 held-out with a fixed window) \n",
       "Summary of sample sizes: 241, 241, 241, 241, 241, 241, ... \n",
       "Resampling results across tuning parameters:\n",
       "\n",
       "  committees  neighbors  RMSE      Rsquared \n",
       "    1         0          1.878888  0.7537728\n",
       "    1         1          1.912226  0.7297393\n",
       "    1         5          1.878553  0.7514739\n",
       "    1         9          1.877388  0.7523942\n",
       "   10         0          1.335045  0.8070565\n",
       "   10         1          1.368218  0.7879379\n",
       "   10         5          1.338693  0.8063525\n",
       "   10         9          1.336566  0.8067927\n",
       "   50         0          1.279469  0.8245143\n",
       "   50         1          1.314872  0.8058544\n",
       "   50         5          1.284360  0.8240985\n",
       "   50         9          1.281800  0.8243575\n",
       "  100         0          1.257336  0.8316632\n",
       "  100         1          1.292913  0.8127304\n",
       "  100         5          1.261743  0.8308316\n",
       "  100         9          1.259097  0.8312202\n",
       "\n",
       "RMSE was used to select the optimal model using  the smallest value.\n",
       "The final values used for the model were committees = 100 and neighbors = 0."
      ]
     },
     "metadata": {},
     "output_type": "display_data"
    }
   ],
   "source": [
    "CbModel12"
   ]
  },
  {
   "cell_type": "markdown",
   "metadata": {},
   "source": []
  },
  {
   "cell_type": "code",
   "execution_count": 93,
   "metadata": {},
   "outputs": [
    {
     "data": {},
     "metadata": {},
     "output_type": "display_data"
    },
    {
     "data": {
      "image/png": "[encoded data removed]",
      "text/plain": [
       "plot without title"
      ]
     },
     "metadata": {},
     "output_type": "display_data"
    }
   ],
   "source": [
    "plot(CbModel12)"
   ]
  },
  {
   "cell_type": "markdown",
   "metadata": {},
   "source": [
    "Em seguida foi realizada, a partir do modelo de regressão gerado, a predição para os próximos 760 períodos."
   ]
  },
  {
   "cell_type": "code",
   "execution_count": 90,
   "metadata": {},
   "outputs": [
    {
     "data": {
      "text/html": [
       "<ol class=list-inline>\n",
       "\t<li>75.5590896606445</li>\n",
       "\t<li>73.4825057983398</li>\n",
       "\t<li>73.0357513427734</li>\n",
       "\t<li>73.7792129516602</li>\n",
       "\t<li>71.6574020385742</li>\n",
       "\t<li>70.7606353759766</li>\n",
       "\t<li>70.9931716918945</li>\n",
       "\t<li>70.64111328125</li>\n",
       "\t<li>70.7070999145508</li>\n",
       "\t<li>71.8425827026367</li>\n",
       "\t<li>72.622314453125</li>\n",
       "\t<li>72.7010345458984</li>\n",
       "\t<li>72.0619354248047</li>\n",
       "\t<li>79.9909057617188</li>\n",
       "\t<li>79.3801574707031</li>\n",
       "\t<li>80.5332870483398</li>\n",
       "\t<li>81.4891662597656</li>\n",
       "\t<li>81.4688339233398</li>\n",
       "\t<li>81.2524642944336</li>\n",
       "\t<li>81.2870864868164</li>\n",
       "</ol>\n"
      ],
      "text/latex": [
       "\\begin{enumerate*}\n",
       "\\item 75.5590896606445\n",
       "\\item 73.4825057983398\n",
       "\\item 73.0357513427734\n",
       "\\item 73.7792129516602\n",
       "\\item 71.6574020385742\n",
       "\\item 70.7606353759766\n",
       "\\item 70.9931716918945\n",
       "\\item 70.64111328125\n",
       "\\item 70.7070999145508\n",
       "\\item 71.8425827026367\n",
       "\\item 72.622314453125\n",
       "\\item 72.7010345458984\n",
       "\\item 72.0619354248047\n",
       "\\item 79.9909057617188\n",
       "\\item 79.3801574707031\n",
       "\\item 80.5332870483398\n",
       "\\item 81.4891662597656\n",
       "\\item 81.4688339233398\n",
       "\\item 81.2524642944336\n",
       "\\item 81.2870864868164\n",
       "\\end{enumerate*}\n"
      ],
      "text/markdown": [
       "1. 75.5590896606445\n",
       "2. 73.4825057983398\n",
       "3. 73.0357513427734\n",
       "4. 73.7792129516602\n",
       "5. 71.6574020385742\n",
       "6. 70.7606353759766\n",
       "7. 70.9931716918945\n",
       "8. 70.64111328125\n",
       "9. 70.7070999145508\n",
       "10. 71.8425827026367\n",
       "11. 72.622314453125\n",
       "12. 72.7010345458984\n",
       "13. 72.0619354248047\n",
       "14. 79.9909057617188\n",
       "15. 79.3801574707031\n",
       "16. 80.5332870483398\n",
       "17. 81.4891662597656\n",
       "18. 81.4688339233398\n",
       "19. 81.2524642944336\n",
       "20. 81.2870864868164\n",
       "\n",
       "\n"
      ],
      "text/plain": [
       " [1] 75.55909 73.48251 73.03575 73.77921 71.65740 70.76064 70.99317 70.64111\n",
       " [9] 70.70710 71.84258 72.62231 72.70103 72.06194 79.99091 79.38016 80.53329\n",
       "[17] 81.48917 81.46883 81.25246 81.28709"
      ]
     },
     "metadata": {},
     "output_type": "display_data"
    }
   ],
   "source": [
    "CubistPredict12[1:20]"
   ]
  },
  {
   "cell_type": "code",
   "execution_count": 98,
   "metadata": {},
   "outputs": [
    {
     "data": {},
     "metadata": {},
     "output_type": "display_data"
    },
    {
     "data": {
      "image/png": "[encoded data removed]",
      "text/plain": [
       "plot without title"
      ]
     },
     "metadata": {},
     "output_type": "display_data"
    }
   ],
   "source": [
    "ggplot(tsCubistPredict12,aes(Date,Price)) + \n",
    "  geom_line(aes(color=\"Predição\")) +\n",
    "  geom_line(data=tsoutPrice12,aes(color=\"Real\")) +\n",
    "  labs(color=\"Legend\") +\n",
    "  scale_colour_manual(\"\", breaks = c(\"Predição\", \"Real\"),\n",
    "                      values = c(\"red\", \"blue\")) +\n",
    "  ggtitle(\"Cotação de Ação - Predição vs Real: 2014 - 2017\") + \n",
    "  theme(plot.title = element_text(lineheight=.7, face=\"bold\"))"
   ]
  },
  {
   "cell_type": "code",
   "execution_count": 97,
   "metadata": {},
   "outputs": [
    {
     "data": {},
     "metadata": {},
     "output_type": "display_data"
    },
    {
     "data": {
      "image/png": "[encoded data removed]",
      "text/plain": [
       "plot without title"
      ]
     },
     "metadata": {},
     "output_type": "display_data"
    }
   ],
   "source": [
    "\n",
    "ggplot(tsCubistPredict12,aes(Date,Variation),na.rm=TRUE) + \n",
    "  geom_line(aes(color=\"Predição\"),na.rm=TRUE) +\n",
    "  geom_line(data=tsoutPrice12,aes(color=\"Real\"),na.rm=TRUE) +\n",
    "  labs(color=\"Legend\") +\n",
    "  scale_colour_manual(\"\", breaks = c(\"Predição\", \"Real\"),\n",
    "                      values = c(\"red\", \"blue\")) +\n",
    "  ggtitle(\"Variação de Cotação para 20 Períodos (2014-2017) : Predição vs Real\") + \n",
    "  theme(plot.title = element_text(lineheight=.7, face=\"bold\"))"
   ]
  },
  {
   "cell_type": "code",
   "execution_count": 144,
   "metadata": {},
   "outputs": [
    {
     "data": {},
     "metadata": {},
     "output_type": "display_data"
    },
    {
     "data": {
      "image/png": "[encoded data removed]",
      "text/plain": [
       "plot without title"
      ]
     },
     "metadata": {},
     "output_type": "display_data"
    }
   ],
   "source": [
    "ggplot(subset(tscompare12, !is.na(RealTendence)), \n",
    "       aes(PreditectedVariation,RealVariaton),color=c(\"PredictedVariation\",\"RealVariation\"),na.rm=TRUE) +\n",
    "geom_point(na.rm=TRUE, size=2,shape=21)+\n",
    "  geom_point(na.rm=TRUE, size=2,shape=21)+\n",
    "xlab(\"PredictedVariation\")+\n",
    "ggtitle(\"Dispersão das variações das cotações para cada período de 20 dias\") "
   ]
  },
  {
   "cell_type": "markdown",
   "metadata": {},
   "source": [
    "<h2>Classificação</h2>"
   ]
  },
  {
   "cell_type": "markdown",
   "metadata": {},
   "source": [
    "Foi utilizado o binning como  técnica para classificar os valores de um conjunto em rótulos exclusivos. \n",
    "Em vez de representar a diferença dos valores de predição isoladamente, esta técnica possibilitou a rotulagem como etiquetas  Alta, Neutra(Indefinida) e Baixa, conforme tabela a seguir:\n",
    "\n",
    "<img src=\"https://github.com/leonardosminfo/Stock/blob/master/tabela_classificacao.png?raw=true\"></img>"
   ]
  },
  {
   "cell_type": "markdown",
   "metadata": {},
   "source": [
    "A função para classificação:"
   ]
  },
  {
   "cell_type": "code",
   "execution_count": 123,
   "metadata": {
    "collapsed": true
   },
   "outputs": [],
   "source": [
    "\n",
    "tendenceFunc<-function(x){ \n",
    "  \n",
    "  ifelse(x>0.01,\"Alta\",ifelse(x<(0.02*-1) ,\"Baixa\",\"Neutra\"))\n",
    "  \n",
    "}"
   ]
  },
  {
   "cell_type": "markdown",
   "metadata": {},
   "source": [
    "Como resultado, as predições e as cotações reais ficaram classificadas da seguinte forma:"
   ]
  },
  {
   "cell_type": "code",
   "execution_count": 124,
   "metadata": {},
   "outputs": [
    {
     "data": {
      "text/html": [
       "<table>\n",
       "<thead><tr><th></th><th scope=col>Date</th><th scope=col>PredictedPrice</th><th scope=col>PreditectedVariation</th><th scope=col>PredictedTendence</th><th scope=col>RealPrice</th><th scope=col>RealVariaton</th><th scope=col>RealTendence</th></tr></thead>\n",
       "<tbody>\n",
       "\t<tr><th scope=row>51</th><td>2014-04-04   </td><td>87.76917     </td><td> 0.0540747500</td><td>Alta         </td><td>92.08        </td><td>0.064017371  </td><td>Alta         </td></tr>\n",
       "\t<tr><th scope=row>52</th><td>2014-04-07   </td><td>87.68183     </td><td> 0.0406399814</td><td>Alta         </td><td>92.18        </td><td>0.064871259  </td><td>Alta         </td></tr>\n",
       "\t<tr><th scope=row>53</th><td>2014-04-08   </td><td>87.48429     </td><td> 0.0076813826</td><td>Neutra       </td><td>91.86        </td><td>0.058734943  </td><td>Alta         </td></tr>\n",
       "\t<tr><th scope=row>54</th><td>2014-04-09   </td><td>86.96114     </td><td>-0.0055997544</td><td>Neutra       </td><td>90.91        </td><td>0.046839587  </td><td>Alta         </td></tr>\n",
       "\t<tr><th scope=row>55</th><td>2014-04-10   </td><td>86.02933     </td><td>-0.0248338129</td><td>Baixa        </td><td>90.83        </td><td>0.034725711  </td><td>Alta         </td></tr>\n",
       "\t<tr><th scope=row>56</th><td>2014-04-11   </td><td>85.55563     </td><td>-0.0430630199</td><td>Baixa        </td><td>90.28        </td><td>0.010019008  </td><td>Neutra       </td></tr>\n",
       "\t<tr><th scope=row>57</th><td>2014-04-14   </td><td>85.21194     </td><td>-0.0532518862</td><td>Baixa        </td><td>90.36        </td><td>0.013593524  </td><td>Neutra       </td></tr>\n",
       "\t<tr><th scope=row>58</th><td>2014-04-15   </td><td>85.48509     </td><td>-0.0526575714</td><td>Baixa        </td><td>90.90        </td><td>0.001431167  </td><td>Neutra       </td></tr>\n",
       "\t<tr><th scope=row>59</th><td>2014-04-16   </td><td>86.50380     </td><td>-0.0427191505</td><td>Baixa        </td><td>91.98        </td><td>0.016995091  </td><td>Neutra       </td></tr>\n",
       "\t<tr><th scope=row>60</th><td>2014-04-17   </td><td>88.45664     </td><td>-0.0011804981</td><td>Neutra       </td><td>92.93        </td><td>0.034150194  </td><td>Alta         </td></tr>\n",
       "\t<tr><th scope=row>61</th><td>2014-04-21   </td><td>90.98814     </td><td> 0.0229271082</td><td>Alta         </td><td>93.52        </td><td>0.026437076  </td><td>Alta         </td></tr>\n",
       "\t<tr><th scope=row>62</th><td>2014-04-22   </td><td>89.53824     </td><td>-0.0048418053</td><td>Neutra       </td><td>93.48        </td><td>0.014655435  </td><td>Neutra       </td></tr>\n",
       "\t<tr><th scope=row>63</th><td>2014-04-23   </td><td>90.72308     </td><td>-0.0018311819</td><td>Neutra       </td><td>94.03        </td><td>0.016621475  </td><td>Neutra       </td></tr>\n",
       "\t<tr><th scope=row>64</th><td>2014-04-24   </td><td>92.20736     </td><td> 0.0171742181</td><td>Neutra       </td><td>95.97        </td><td>0.039858616  </td><td>Alta         </td></tr>\n",
       "\t<tr><th scope=row>65</th><td>2014-04-25   </td><td>92.89920     </td><td> 0.0201587393</td><td>Alta         </td><td>95.35        </td><td>0.017456143  </td><td>Neutra       </td></tr>\n",
       "\t<tr><th scope=row>66</th><td>2014-04-28   </td><td>92.17094     </td><td> 0.0006740108</td><td>Neutra       </td><td>95.39        </td><td>0.012022925  </td><td>Neutra       </td></tr>\n",
       "\t<tr><th scope=row>67</th><td>2014-04-29   </td><td>91.08910     </td><td>-0.0056390417</td><td>Neutra       </td><td>95.04        </td><td>0.012493545  </td><td>Neutra       </td></tr>\n",
       "\t<tr><th scope=row>68</th><td>2014-04-30   </td><td>92.15594     </td><td> 0.0420645359</td><td>Alta         </td><td>95.22        </td><td>0.031254210  </td><td>Alta         </td></tr>\n",
       "\t<tr><th scope=row>69</th><td>2014-05-01   </td><td>93.00484     </td><td> 0.0634209973</td><td>Alta         </td><td>96.45        </td><td>0.055093034  </td><td>Alta         </td></tr>\n",
       "\t<tr><th scope=row>70</th><td>2014-05-02   </td><td>92.26670     </td><td> 0.0515903164</td><td>Alta         </td><td>95.32        </td><td>0.033279522  </td><td>Alta         </td></tr>\n",
       "\t<tr><th scope=row>71</th><td>2014-05-05   </td><td>90.08991     </td><td> 0.0260978680</td><td>Alta         </td><td>94.78        </td><td>0.028900652  </td><td>Alta         </td></tr>\n",
       "\t<tr><th scope=row>72</th><td>2014-05-06   </td><td>88.35931     </td><td> 0.0076968182</td><td>Neutra       </td><td>93.09        </td><td>0.009823580  </td><td>Neutra       </td></tr>\n",
       "\t<tr><th scope=row>73</th><td>2014-05-07   </td><td>88.25039     </td><td> 0.0087188582</td><td>Neutra       </td><td>94.43        </td><td>0.027593140  </td><td>Alta         </td></tr>\n",
       "\t<tr><th scope=row>74</th><td>2014-05-08   </td><td>88.35698     </td><td> 0.0159238001</td><td>Neutra       </td><td>93.94        </td><td>0.032786274  </td><td>Alta         </td></tr>\n",
       "\t<tr><th scope=row>75</th><td>2014-05-09   </td><td>88.61994     </td><td> 0.0296686537</td><td>Alta         </td><td>94.72        </td><td>0.041935544  </td><td>Alta         </td></tr>\n",
       "\t<tr><th scope=row>76</th><td>2014-05-12   </td><td>92.40963     </td><td> 0.0770644322</td><td>Alta         </td><td>97.19        </td><td>0.073751874  </td><td>Alta         </td></tr>\n",
       "\t<tr><th scope=row>77</th><td>2014-05-13   </td><td>93.08521     </td><td> 0.0883737283</td><td>Alta         </td><td>97.03        </td><td>0.071218517  </td><td>Alta         </td></tr>\n",
       "\t<tr><th scope=row>78</th><td>2014-05-14   </td><td>93.73219     </td><td> 0.0920996239</td><td>Alta         </td><td>97.67        </td><td>0.071834448  </td><td>Alta         </td></tr>\n",
       "\t<tr><th scope=row>79</th><td>2014-05-15   </td><td>94.65015     </td><td> 0.0899991688</td><td>Alta         </td><td>99.02        </td><td>0.073750688  </td><td>Alta         </td></tr>\n",
       "\t<tr><th scope=row>80</th><td>2014-05-16   </td><td>95.15318     </td><td> 0.0729754525</td><td>Alta         </td><td>98.38        </td><td>0.056991010  </td><td>Alta         </td></tr>\n",
       "</tbody>\n",
       "</table>\n"
      ],
      "text/latex": [
       "\\begin{tabular}{r|lllllll}\n",
       "  & Date & PredictedPrice & PreditectedVariation & PredictedTendence & RealPrice & RealVariaton & RealTendence\\\\\n",
       "\\hline\n",
       "\t51 & 2014-04-04    & 87.76917      &  0.0540747500 & Alta          & 92.08         & 0.064017371   & Alta         \\\\\n",
       "\t52 & 2014-04-07    & 87.68183      &  0.0406399814 & Alta          & 92.18         & 0.064871259   & Alta         \\\\\n",
       "\t53 & 2014-04-08    & 87.48429      &  0.0076813826 & Neutra        & 91.86         & 0.058734943   & Alta         \\\\\n",
       "\t54 & 2014-04-09    & 86.96114      & -0.0055997544 & Neutra        & 90.91         & 0.046839587   & Alta         \\\\\n",
       "\t55 & 2014-04-10    & 86.02933      & -0.0248338129 & Baixa         & 90.83         & 0.034725711   & Alta         \\\\\n",
       "\t56 & 2014-04-11    & 85.55563      & -0.0430630199 & Baixa         & 90.28         & 0.010019008   & Neutra       \\\\\n",
       "\t57 & 2014-04-14    & 85.21194      & -0.0532518862 & Baixa         & 90.36         & 0.013593524   & Neutra       \\\\\n",
       "\t58 & 2014-04-15    & 85.48509      & -0.0526575714 & Baixa         & 90.90         & 0.001431167   & Neutra       \\\\\n",
       "\t59 & 2014-04-16    & 86.50380      & -0.0427191505 & Baixa         & 91.98         & 0.016995091   & Neutra       \\\\\n",
       "\t60 & 2014-04-17    & 88.45664      & -0.0011804981 & Neutra        & 92.93         & 0.034150194   & Alta         \\\\\n",
       "\t61 & 2014-04-21    & 90.98814      &  0.0229271082 & Alta          & 93.52         & 0.026437076   & Alta         \\\\\n",
       "\t62 & 2014-04-22    & 89.53824      & -0.0048418053 & Neutra        & 93.48         & 0.014655435   & Neutra       \\\\\n",
       "\t63 & 2014-04-23    & 90.72308      & -0.0018311819 & Neutra        & 94.03         & 0.016621475   & Neutra       \\\\\n",
       "\t64 & 2014-04-24    & 92.20736      &  0.0171742181 & Neutra        & 95.97         & 0.039858616   & Alta         \\\\\n",
       "\t65 & 2014-04-25    & 92.89920      &  0.0201587393 & Alta          & 95.35         & 0.017456143   & Neutra       \\\\\n",
       "\t66 & 2014-04-28    & 92.17094      &  0.0006740108 & Neutra        & 95.39         & 0.012022925   & Neutra       \\\\\n",
       "\t67 & 2014-04-29    & 91.08910      & -0.0056390417 & Neutra        & 95.04         & 0.012493545   & Neutra       \\\\\n",
       "\t68 & 2014-04-30    & 92.15594      &  0.0420645359 & Alta          & 95.22         & 0.031254210   & Alta         \\\\\n",
       "\t69 & 2014-05-01    & 93.00484      &  0.0634209973 & Alta          & 96.45         & 0.055093034   & Alta         \\\\\n",
       "\t70 & 2014-05-02    & 92.26670      &  0.0515903164 & Alta          & 95.32         & 0.033279522   & Alta         \\\\\n",
       "\t71 & 2014-05-05    & 90.08991      &  0.0260978680 & Alta          & 94.78         & 0.028900652   & Alta         \\\\\n",
       "\t72 & 2014-05-06    & 88.35931      &  0.0076968182 & Neutra        & 93.09         & 0.009823580   & Neutra       \\\\\n",
       "\t73 & 2014-05-07    & 88.25039      &  0.0087188582 & Neutra        & 94.43         & 0.027593140   & Alta         \\\\\n",
       "\t74 & 2014-05-08    & 88.35698      &  0.0159238001 & Neutra        & 93.94         & 0.032786274   & Alta         \\\\\n",
       "\t75 & 2014-05-09    & 88.61994      &  0.0296686537 & Alta          & 94.72         & 0.041935544   & Alta         \\\\\n",
       "\t76 & 2014-05-12    & 92.40963      &  0.0770644322 & Alta          & 97.19         & 0.073751874   & Alta         \\\\\n",
       "\t77 & 2014-05-13    & 93.08521      &  0.0883737283 & Alta          & 97.03         & 0.071218517   & Alta         \\\\\n",
       "\t78 & 2014-05-14    & 93.73219      &  0.0920996239 & Alta          & 97.67         & 0.071834448   & Alta         \\\\\n",
       "\t79 & 2014-05-15    & 94.65015      &  0.0899991688 & Alta          & 99.02         & 0.073750688   & Alta         \\\\\n",
       "\t80 & 2014-05-16    & 95.15318      &  0.0729754525 & Alta          & 98.38         & 0.056991010   & Alta         \\\\\n",
       "\\end{tabular}\n"
      ],
      "text/markdown": [
       "\n",
       "| <!--/--> | Date | PredictedPrice | PreditectedVariation | PredictedTendence | RealPrice | RealVariaton | RealTendence | \n",
       "|---|---|---|---|---|---|---|---|---|---|---|---|---|---|---|---|---|---|---|---|---|---|---|---|---|---|---|---|---|---|\n",
       "| 51 | 2014-04-04    | 87.76917      |  0.0540747500 | Alta          | 92.08         | 0.064017371   | Alta          | \n",
       "| 52 | 2014-04-07    | 87.68183      |  0.0406399814 | Alta          | 92.18         | 0.064871259   | Alta          | \n",
       "| 53 | 2014-04-08    | 87.48429      |  0.0076813826 | Neutra        | 91.86         | 0.058734943   | Alta          | \n",
       "| 54 | 2014-04-09    | 86.96114      | -0.0055997544 | Neutra        | 90.91         | 0.046839587   | Alta          | \n",
       "| 55 | 2014-04-10    | 86.02933      | -0.0248338129 | Baixa         | 90.83         | 0.034725711   | Alta          | \n",
       "| 56 | 2014-04-11    | 85.55563      | -0.0430630199 | Baixa         | 90.28         | 0.010019008   | Neutra        | \n",
       "| 57 | 2014-04-14    | 85.21194      | -0.0532518862 | Baixa         | 90.36         | 0.013593524   | Neutra        | \n",
       "| 58 | 2014-04-15    | 85.48509      | -0.0526575714 | Baixa         | 90.90         | 0.001431167   | Neutra        | \n",
       "| 59 | 2014-04-16    | 86.50380      | -0.0427191505 | Baixa         | 91.98         | 0.016995091   | Neutra        | \n",
       "| 60 | 2014-04-17    | 88.45664      | -0.0011804981 | Neutra        | 92.93         | 0.034150194   | Alta          | \n",
       "| 61 | 2014-04-21    | 90.98814      |  0.0229271082 | Alta          | 93.52         | 0.026437076   | Alta          | \n",
       "| 62 | 2014-04-22    | 89.53824      | -0.0048418053 | Neutra        | 93.48         | 0.014655435   | Neutra        | \n",
       "| 63 | 2014-04-23    | 90.72308      | -0.0018311819 | Neutra        | 94.03         | 0.016621475   | Neutra        | \n",
       "| 64 | 2014-04-24    | 92.20736      |  0.0171742181 | Neutra        | 95.97         | 0.039858616   | Alta          | \n",
       "| 65 | 2014-04-25    | 92.89920      |  0.0201587393 | Alta          | 95.35         | 0.017456143   | Neutra        | \n",
       "| 66 | 2014-04-28    | 92.17094      |  0.0006740108 | Neutra        | 95.39         | 0.012022925   | Neutra        | \n",
       "| 67 | 2014-04-29    | 91.08910      | -0.0056390417 | Neutra        | 95.04         | 0.012493545   | Neutra        | \n",
       "| 68 | 2014-04-30    | 92.15594      |  0.0420645359 | Alta          | 95.22         | 0.031254210   | Alta          | \n",
       "| 69 | 2014-05-01    | 93.00484      |  0.0634209973 | Alta          | 96.45         | 0.055093034   | Alta          | \n",
       "| 70 | 2014-05-02    | 92.26670      |  0.0515903164 | Alta          | 95.32         | 0.033279522   | Alta          | \n",
       "| 71 | 2014-05-05    | 90.08991      |  0.0260978680 | Alta          | 94.78         | 0.028900652   | Alta          | \n",
       "| 72 | 2014-05-06    | 88.35931      |  0.0076968182 | Neutra        | 93.09         | 0.009823580   | Neutra        | \n",
       "| 73 | 2014-05-07    | 88.25039      |  0.0087188582 | Neutra        | 94.43         | 0.027593140   | Alta          | \n",
       "| 74 | 2014-05-08    | 88.35698      |  0.0159238001 | Neutra        | 93.94         | 0.032786274   | Alta          | \n",
       "| 75 | 2014-05-09    | 88.61994      |  0.0296686537 | Alta          | 94.72         | 0.041935544   | Alta          | \n",
       "| 76 | 2014-05-12    | 92.40963      |  0.0770644322 | Alta          | 97.19         | 0.073751874   | Alta          | \n",
       "| 77 | 2014-05-13    | 93.08521      |  0.0883737283 | Alta          | 97.03         | 0.071218517   | Alta          | \n",
       "| 78 | 2014-05-14    | 93.73219      |  0.0920996239 | Alta          | 97.67         | 0.071834448   | Alta          | \n",
       "| 79 | 2014-05-15    | 94.65015      |  0.0899991688 | Alta          | 99.02         | 0.073750688   | Alta          | \n",
       "| 80 | 2014-05-16    | 95.15318      |  0.0729754525 | Alta          | 98.38         | 0.056991010   | Alta          | \n",
       "\n",
       "\n"
      ],
      "text/plain": [
       "   Date       PredictedPrice PreditectedVariation PredictedTendence RealPrice\n",
       "51 2014-04-04 87.76917        0.0540747500        Alta              92.08    \n",
       "52 2014-04-07 87.68183        0.0406399814        Alta              92.18    \n",
       "53 2014-04-08 87.48429        0.0076813826        Neutra            91.86    \n",
       "54 2014-04-09 86.96114       -0.0055997544        Neutra            90.91    \n",
       "55 2014-04-10 86.02933       -0.0248338129        Baixa             90.83    \n",
       "56 2014-04-11 85.55563       -0.0430630199        Baixa             90.28    \n",
       "57 2014-04-14 85.21194       -0.0532518862        Baixa             90.36    \n",
       "58 2014-04-15 85.48509       -0.0526575714        Baixa             90.90    \n",
       "59 2014-04-16 86.50380       -0.0427191505        Baixa             91.98    \n",
       "60 2014-04-17 88.45664       -0.0011804981        Neutra            92.93    \n",
       "61 2014-04-21 90.98814        0.0229271082        Alta              93.52    \n",
       "62 2014-04-22 89.53824       -0.0048418053        Neutra            93.48    \n",
       "63 2014-04-23 90.72308       -0.0018311819        Neutra            94.03    \n",
       "64 2014-04-24 92.20736        0.0171742181        Neutra            95.97    \n",
       "65 2014-04-25 92.89920        0.0201587393        Alta              95.35    \n",
       "66 2014-04-28 92.17094        0.0006740108        Neutra            95.39    \n",
       "67 2014-04-29 91.08910       -0.0056390417        Neutra            95.04    \n",
       "68 2014-04-30 92.15594        0.0420645359        Alta              95.22    \n",
       "69 2014-05-01 93.00484        0.0634209973        Alta              96.45    \n",
       "70 2014-05-02 92.26670        0.0515903164        Alta              95.32    \n",
       "71 2014-05-05 90.08991        0.0260978680        Alta              94.78    \n",
       "72 2014-05-06 88.35931        0.0076968182        Neutra            93.09    \n",
       "73 2014-05-07 88.25039        0.0087188582        Neutra            94.43    \n",
       "74 2014-05-08 88.35698        0.0159238001        Neutra            93.94    \n",
       "75 2014-05-09 88.61994        0.0296686537        Alta              94.72    \n",
       "76 2014-05-12 92.40963        0.0770644322        Alta              97.19    \n",
       "77 2014-05-13 93.08521        0.0883737283        Alta              97.03    \n",
       "78 2014-05-14 93.73219        0.0920996239        Alta              97.67    \n",
       "79 2014-05-15 94.65015        0.0899991688        Alta              99.02    \n",
       "80 2014-05-16 95.15318        0.0729754525        Alta              98.38    \n",
       "   RealVariaton RealTendence\n",
       "51 0.064017371  Alta        \n",
       "52 0.064871259  Alta        \n",
       "53 0.058734943  Alta        \n",
       "54 0.046839587  Alta        \n",
       "55 0.034725711  Alta        \n",
       "56 0.010019008  Neutra      \n",
       "57 0.013593524  Neutra      \n",
       "58 0.001431167  Neutra      \n",
       "59 0.016995091  Neutra      \n",
       "60 0.034150194  Alta        \n",
       "61 0.026437076  Alta        \n",
       "62 0.014655435  Neutra      \n",
       "63 0.016621475  Neutra      \n",
       "64 0.039858616  Alta        \n",
       "65 0.017456143  Neutra      \n",
       "66 0.012022925  Neutra      \n",
       "67 0.012493545  Neutra      \n",
       "68 0.031254210  Alta        \n",
       "69 0.055093034  Alta        \n",
       "70 0.033279522  Alta        \n",
       "71 0.028900652  Alta        \n",
       "72 0.009823580  Neutra      \n",
       "73 0.027593140  Alta        \n",
       "74 0.032786274  Alta        \n",
       "75 0.041935544  Alta        \n",
       "76 0.073751874  Alta        \n",
       "77 0.071218517  Alta        \n",
       "78 0.071834448  Alta        \n",
       "79 0.073750688  Alta        \n",
       "80 0.056991010  Alta        "
      ]
     },
     "metadata": {},
     "output_type": "display_data"
    }
   ],
   "source": [
    "head(tscompare12[-c(1:50),],30)"
   ]
  },
  {
   "cell_type": "markdown",
   "metadata": {},
   "source": [
    "A  tabela  abaixo apresenta  a  matriz  de  confusão,  com <b> 77,57%  de  acurácia</b>.  Esta  é  uma  taxa  alta, \n",
    "contudo,  é  possível  identificar na decomposição por classes, que a classifação neutra, ainda permite uma grande margem de melhoria."
   ]
  },
  {
   "cell_type": "code",
   "execution_count": 148,
   "metadata": {},
   "outputs": [
    {
     "data": {
      "text/plain": [
       "Confusion Matrix and Statistics\n",
       "\n",
       "          Reference\n",
       "Prediction Alta Baixa Neutra\n",
       "    Alta    320     4     24\n",
       "    Baixa     6   176     61\n",
       "    Neutra   52    19     78\n",
       "\n",
       "Overall Statistics\n",
       "                                          \n",
       "               Accuracy : 0.7757          \n",
       "                 95% CI : (0.7439, 0.8053)\n",
       "    No Information Rate : 0.5108          \n",
       "    P-Value [Acc > NIR] : < 2.2e-16       \n",
       "                                          \n",
       "                  Kappa : 0.6423          \n",
       " Mcnemar's Test P-Value : 3.609e-07       \n",
       "\n",
       "Statistics by Class:\n",
       "\n",
       "                     Class: Alta Class: Baixa Class: Neutra\n",
       "Sensitivity               0.8466       0.8844        0.4785\n",
       "Specificity               0.9227       0.8762        0.8769\n",
       "Pos Pred Value            0.9195       0.7243        0.5235\n",
       "Neg Pred Value            0.8520       0.9537        0.8562\n",
       "Prevalence                0.5108       0.2689        0.2203\n",
       "Detection Rate            0.4324       0.2378        0.1054\n",
       "Detection Prevalence      0.4703       0.3284        0.2014\n",
       "Balanced Accuracy         0.8846       0.8803        0.6777"
      ]
     },
     "metadata": {},
     "output_type": "display_data"
    }
   ],
   "source": [
    "confusionMatrix(AlgoTRADE12,MarketTRADE12)\n"
   ]
  },
  {
   "cell_type": "markdown",
   "metadata": {},
   "source": [
    "Finalmente, chegamos à definição da tendências de ações, conforme abaixo:"
   ]
  },
  {
   "cell_type": "code",
   "execution_count": 121,
   "metadata": {},
   "outputs": [
    {
     "data": {},
     "metadata": {},
     "output_type": "display_data"
    },
    {
     "data": {
      "image/png": "[encoded data removed]",
      "text/plain": [
       "plot without title"
      ]
     },
     "metadata": {},
     "output_type": "display_data"
    }
   ],
   "source": [
    "\n",
    "ggplot(subset(tscompare12, !is.na(RealTendence)), aes(Date, RealPrice),na.rm=TRUE) +\n",
    "  geom_point(na.rm=TRUE, color=\"black\", size=1,shape=21) +\n",
    "  geom_smooth(data=subset(tscompare12, !is.na(RealTendence)),\n",
    "              aes(Date,PredictedPrice,color=factor(PredictedTendence)),na.rm=TRUE,method=\"loess\") +\n",
    "    ggtitle(\"Cotação de Ação x Tendências Predição: 2014 - 2017\") +\n",
    "  xlab(\"Data\") + ylab(\"Cotação\")+\n",
    "  labs(color=\"Tendência\")+\n",
    "\n",
    "  scale_colour_manual(\"\", breaks = c(\"Alta\", \"Baixa\",\"Neutra\"),\n",
    "                      values = c(\"blue\", \"Red\",\"green\")) "
   ]
  },
  {
   "cell_type": "code",
   "execution_count": null,
   "metadata": {
    "collapsed": true
   },
   "outputs": [],
   "source": []
  }
 ],
 "metadata": {
  "kernelspec": {
   "display_name": "R",
   "language": "R",
   "name": "ir"
  },
  "language_info": {
   "codemirror_mode": "r",
   "file_extension": ".r",
   "mimetype": "text/x-r-source",
   "name": "R",
   "pygments_lexer": "r",
   "version": "3.4.1"
  }
 },
 "nbformat": 4,
 "nbformat_minor": 2
}
